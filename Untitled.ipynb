{
 "cells": [
  {
   "cell_type": "code",
   "execution_count": 5,
   "id": "0c2cb7be-fa18-49f5-ab96-68b1e059e39a",
   "metadata": {},
   "outputs": [
    {
     "name": "stdout",
     "output_type": "stream",
     "text": [
      "[[34.  32.  34.  45. ]\n",
      " [67.  78.  23.4 45. ]]\n",
      "(2, 4)\n",
      "2\n",
      "8\n",
      "<class 'numpy.ndarray'>\n",
      "float64\n",
      "[['34.0' '32.0' '34.0' '45.0']\n",
      " ['67.0' '78.0' '23.4' '45.0']]\n",
      "[[34 32 34 45]\n",
      " [67 78 23 45]]\n"
     ]
    }
   ],
   "source": [
    "import numpy as np\n",
    "\n",
    "a = [[34,32,34,45],[67,78,23.4,45]]\n",
    "arr = np.array(a)\n",
    "print(arr)\n",
    "print(arr.shape)\n",
    "print(len(arr))\n",
    "print(np.size(arr))\n",
    "print(type(arr))\n",
    "print(arr.dtype)\n",
    "print(arr.astype(str))\n",
    "print(arr.astype(int))"
   ]
  }
 ],
 "metadata": {
  "kernelspec": {
   "display_name": "Python 3 (ipykernel)",
   "language": "python",
   "name": "python3"
  },
  "language_info": {
   "codemirror_mode": {
    "name": "ipython",
    "version": 3
   },
   "file_extension": ".py",
   "mimetype": "text/x-python",
   "name": "python",
   "nbconvert_exporter": "python",
   "pygments_lexer": "ipython3",
   "version": "3.12.2"
  }
 },
 "nbformat": 4,
 "nbformat_minor": 5
}
