{
 "cells": [
  {
   "cell_type": "code",
   "execution_count": 6,
   "id": "0c2cb7be-fa18-49f5-ab96-68b1e059e39a",
   "metadata": {},
   "outputs": [
    {
     "name": "stdout",
     "output_type": "stream",
     "text": [
      "[63 84 98 86]\n",
      "[63 84 98 86]\n",
      "[[63 84]\n",
      " [98 86]]\n"
     ]
    }
   ],
   "source": [
    "import numpy as np\n",
    "\n",
    "# a = [[34,32,34,45],[67,78,23.4,45]]\n",
    "# arr = np.array(a)\n",
    "# print(arr)\n",
    "# print(arr.shape) # no. of row and columns\n",
    "# print(len(arr)) # number of nested values\n",
    "# print(np.size(arr)) # number of elements\n",
    "# print(type(arr)) #data type of variable\n",
    "# print(arr.dtype) # datatype of array\n",
    "# print(arr.astype(str))# conversion of datatype\n",
    "# print(arr.astype(int))\n",
    "\n",
    "arr1 = np.array([33,44,49,43])\n",
    "arr2 = np.array([30,40,49,43])\n",
    "print(arr1+arr2)\n",
    "print(np.add(arr1,arr2))\n",
    "arr1 = np.array([[33,44],[49,43]])\n",
    "arr2 = np.array([[30,40],[49,43]])\n",
    "print(arr1+arr2)\n",
    "\n"
   ]
  },
  {
   "cell_type": "code",
   "execution_count": 8,
   "id": "fe0fbde2-b973-4f9e-ac32-0c6d270f3ca0",
   "metadata": {},
   "outputs": [
    {
     "name": "stdout",
     "output_type": "stream",
     "text": [
      "[3 4 0 0]\n",
      "[3 4 0 0]\n",
      "[[3 4]\n",
      " [0 0]]\n"
     ]
    }
   ],
   "source": [
    "arr1 = np.array([33,44,49,43])\n",
    "arr2 = np.array([30,40,49,43])\n",
    "print(arr1-arr2)\n",
    "print(np.subtract(arr1,arr2))\n",
    "arr1 = np.array([[33,44],[49,43]])\n",
    "arr2 = np.array([[30,40],[49,43]])\n",
    "print(arr1-arr2)"
   ]
  },
  {
   "cell_type": "code",
   "execution_count": 9,
   "id": "94d7aa7c-0806-40cc-8416-9e92fda12744",
   "metadata": {},
   "outputs": [
    {
     "name": "stdout",
     "output_type": "stream",
     "text": [
      "[ 990 1760 2401 1849]\n",
      "[ 990 1760 2401 1849]\n",
      "[[ 990 1760]\n",
      " [2401 1849]]\n"
     ]
    }
   ],
   "source": [
    "arr1 = np.array([33,44,49,43])\n",
    "arr2 = np.array([30,40,49,43])\n",
    "print(arr1*arr2)\n",
    "print(np.multiply(arr1,arr2))\n",
    "arr1 = np.array([[33,44],[49,43]])\n",
    "arr2 = np.array([[30,40],[49,43]])\n",
    "print(arr1*arr2)"
   ]
  },
  {
   "cell_type": "code",
   "execution_count": 10,
   "id": "b65afeb9-5187-4714-8a94-de7f917d95f7",
   "metadata": {},
   "outputs": [
    {
     "name": "stdout",
     "output_type": "stream",
     "text": [
      "[1.1 1.1 1.  1. ]\n",
      "[1.1 1.1 1.  1. ]\n",
      "[[1.1 1.1]\n",
      " [1.  1. ]]\n"
     ]
    }
   ],
   "source": [
    "arr1 = np.array([33,44,49,43])\n",
    "arr2 = np.array([30,40,49,43])\n",
    "print(arr1/arr2)\n",
    "print(np.divide(arr1,arr2))\n",
    "arr1 = np.array([[33,44],[49,43]])\n",
    "arr2 = np.array([[30,40],[49,43]])\n",
    "print(arr1/arr2)"
   ]
  },
  {
   "cell_type": "code",
   "execution_count": 12,
   "id": "ccf037cc-7856-4fb5-8bf8-752593eaf017",
   "metadata": {},
   "outputs": [
    {
     "name": "stdout",
     "output_type": "stream",
     "text": [
      "[1089 1936 2401 1849]\n"
     ]
    }
   ],
   "source": [
    "arr1 = np.array([33,44,49,43])\n",
    "arr2 = np.array([2])\n",
    "print(np.power(arr1,arr2))"
   ]
  },
  {
   "cell_type": "code",
   "execution_count": 15,
   "id": "085b9139-cb33-4529-aa05-a8cc6732aeff",
   "metadata": {},
   "outputs": [
    {
     "name": "stdout",
     "output_type": "stream",
     "text": [
      "[33. 44. 49. 43.]\n"
     ]
    }
   ],
   "source": [
    "arr1 = np.array([1089, 1936, 2401, 1849])\n",
    "print(np.sqrt(arr1))"
   ]
  },
  {
   "cell_type": "code",
   "execution_count": 19,
   "id": "46b03d73-02bf-4a84-9897-71352654d16e",
   "metadata": {},
   "outputs": [
    {
     "name": "stdout",
     "output_type": "stream",
     "text": [
      "[33 44 49 43 30 40 49 43]\n"
     ]
    }
   ],
   "source": [
    "# # combining and splitting array\n",
    "# a = [23,34,23]\n",
    "# b = [3,45,56]\n",
    "# print(a+b)\n",
    "\n",
    "# concatenate\n",
    "\n",
    "arr1 = np.array([33,44,49,43])\n",
    "arr2 = np.array([30,40,49,43])\n",
    "print(np.concatenate([arr1,arr2])) "
   ]
  },
  {
   "cell_type": "code",
   "execution_count": 23,
   "id": "6aa5684b-bb04-44af-8471-edf7e4df1653",
   "metadata": {},
   "outputs": [
    {
     "name": "stdout",
     "output_type": "stream",
     "text": [
      "[[33 44]\n",
      " [49 43]\n",
      " [30 40]\n",
      " [49 43]]\n",
      "[[33 44 30 40]\n",
      " [49 43 49 43]]\n"
     ]
    }
   ],
   "source": [
    "arr1 = np.array([[33,44],[49,43]])\n",
    "arr2 = np.array([[30,40],[49,43]])\n",
    "print(np.concatenate([arr1,arr2],axis = 0)) \n",
    "print(np.concatenate([arr1,arr2],axis = 1)) "
   ]
  },
  {
   "cell_type": "code",
   "execution_count": 24,
   "id": "057a782f-e06a-42f1-918c-0afad44f5b24",
   "metadata": {},
   "outputs": [
    {
     "name": "stdout",
     "output_type": "stream",
     "text": [
      "[[33 44 30 40]\n",
      " [49 43 49 43]]\n"
     ]
    }
   ],
   "source": [
    "print(np.hstack([arr1,arr2])) # horizontal concatenation"
   ]
  },
  {
   "cell_type": "code",
   "execution_count": null,
   "id": "0822b15e-26b9-44bd-8647-1404d1affede",
   "metadata": {},
   "outputs": [],
   "source": [
    "print(np.vstack([arr1,arr2])) # vertical concatenation concatenation"
   ]
  },
  {
   "cell_type": "code",
   "execution_count": 28,
   "id": "abbebf07-6370-47ac-bd77-4f8e534db142",
   "metadata": {},
   "outputs": [
    {
     "name": "stdout",
     "output_type": "stream",
     "text": [
      "[array([20, 34]), array([45, 45]), array([50])]\n",
      "[45 45]\n",
      "[array([[20, 34, 45]]), array([[45, 50, 90]]), array([], shape=(0, 3), dtype=int32)]\n",
      "[[45 50 90]]\n"
     ]
    }
   ],
   "source": [
    "a = np.array([20,34,45,45,50])\n",
    "print(np.array_split(a,3))\n",
    "b = np.array_split(a,3)\n",
    "print(b[1])\n",
    "\n",
    "a = np.array([[20,34,45],[45,50,90]])\n",
    "print(np.array_split(a,3))\n",
    "b = np.array_split(a,3)\n",
    "print(b[1])"
   ]
  },
  {
   "cell_type": "code",
   "execution_count": 30,
   "id": "e09bfdde-5e05-456c-a5ed-5c5d4eaec626",
   "metadata": {},
   "outputs": [
    {
     "name": "stdout",
     "output_type": "stream",
     "text": [
      "[20 34 45 45 50 90]\n",
      "[20 34 45 45 50 90 90]\n",
      "[ 20  34  45  45  50  90 100  90]\n"
     ]
    }
   ],
   "source": [
    "a = np.array([20,34,45,45,50])\n",
    "print(np.append(a,90))\n",
    "a = np.array([[20,34,45],[45,50,90]])\n",
    "print(np.append(a,90))\n",
    "print(np.append(a,[100,90]))\n",
    "\n",
    "\n"
   ]
  },
  {
   "cell_type": "code",
   "execution_count": 40,
   "id": "f250c1ca-9f90-4644-9ceb-3a870c467f34",
   "metadata": {},
   "outputs": [
    {
     "name": "stdout",
     "output_type": "stream",
     "text": [
      "[20 50 34 45 45 50]\n",
      "[20 50 34 45 45 50 90]\n",
      "[[20 50 34 45]\n",
      " [45 60 50 90]]\n",
      "[[20 34]\n",
      " [50 50]\n",
      " [45 90]]\n",
      "[[20 34]\n",
      " [50 60]\n",
      " [45 90]\n",
      " [50 60]]\n"
     ]
    }
   ],
   "source": [
    "a = np.array([20,34,45,45,50])\n",
    "print(np.insert(a,1,50)) # array, index,value\n",
    "a = np.array([[20,34,45],[45,50,90]])\n",
    "print(np.insert(a,1,50))\n",
    "print(np.insert(a,1,[50,60],axis = 1))\n",
    "# print(np.insert(a,1,[50,60],axis = 0))\n",
    "a = np.array([[20,34],[45,90]])\n",
    "print(np.insert(a,1,[50],axis = 0))\n",
    "print(np.insert(a,[1,2],[50,60],axis = 0))\n",
    "\n",
    "\n",
    "\n",
    "\n"
   ]
  },
  {
   "cell_type": "code",
   "execution_count": 45,
   "id": "a8bca542-603c-4021-9b86-0af0e9e64182",
   "metadata": {},
   "outputs": [
    {
     "name": "stdout",
     "output_type": "stream",
     "text": [
      "[[20 34]\n",
      " [45 90]]\n",
      "[20 45 90]\n",
      "[[20 34]]\n",
      "[[20]\n",
      " [45]]\n"
     ]
    }
   ],
   "source": [
    "print(a)\n",
    "print(np.delete(a,1))\n",
    "print(np.delete(a,1,axis = 0 ))\n",
    "print(np.delete(a,1,axis = 1 ))"
   ]
  },
  {
   "cell_type": "code",
   "execution_count": null,
   "id": "35d3bf55-7cd1-4e0b-b343-a18e3ffb3459",
   "metadata": {},
   "outputs": [],
   "source": [
    "# function : sort,filter, Search."
   ]
  },
  {
   "cell_type": "code",
   "execution_count": 48,
   "id": "55444dcf-ce48-4cd8-9510-c076a395a003",
   "metadata": {},
   "outputs": [
    {
     "name": "stdout",
     "output_type": "stream",
     "text": [
      "[-13  -1   1   2  11  21  23  23  34  45  54  67]\n",
      "[[-13  21  23  23  34  45]\n",
      " [ -1   1   2  11  54  67]]\n"
     ]
    }
   ],
   "source": [
    "# sort function\n",
    "arr = np.array([34,23,21,-13,45,23,11,67,54,2,1,-1])\n",
    "print(np.sort(arr))\n",
    "arr = np.array([[34,23,21,-13,45,23],[11,67,54,2,1,-1]])\n",
    "print(np.sort(arr))"
   ]
  },
  {
   "cell_type": "code",
   "execution_count": 63,
   "id": "236b239f-fbb2-4b94-9693-78fb8478f711",
   "metadata": {},
   "outputs": [
    {
     "name": "stdout",
     "output_type": "stream",
     "text": [
      "(array([3], dtype=int64),)\n",
      "(array([0, 8, 9], dtype=int64),)\n",
      "4\n"
     ]
    }
   ],
   "source": [
    "#  search function\n",
    "arr = np.array([34,23,21,-13,45,23,11,67,54,2,1,-1])\n",
    "s = np.where(arr ==-13)\n",
    "print(s)\n",
    "s = np.where(arr%2 == 0)\n",
    "print(s)\n",
    "\n",
    "# searchsorted\n",
    "arr = np.array([1,2,3,34,45,56,57])\n",
    "ss = np.searchsorted(arr,44) # gives nearest  element address of the ARRAY!\n",
    "print(ss)"
   ]
  },
  {
   "cell_type": "code",
   "execution_count": 73,
   "id": "69382b70-13fc-454e-a5fa-e4a76de7504f",
   "metadata": {},
   "outputs": [
    {
     "name": "stdout",
     "output_type": "stream",
     "text": [
      "[34 21 45 11 54  1]\n",
      "[21 11  1]\n",
      "[ 23 -13  23  67   2  -1]\n",
      "[45 67 54]\n",
      "[34 54  2]\n"
     ]
    }
   ],
   "source": [
    "# filter functon\n",
    "arr = np.array([34,23,21,-13,45,23,11,67,54,2,1,-1])\n",
    "fa = [True,False,True,False,True,False,True,False,True,False,True,False]\n",
    "ga = [False,False,True,False,False,False,True,False,False,False,True,False]\n",
    "sa = [False,True,False,True,False,True,False,True,False,True,False,True]\n",
    "new = arr[fa]\n",
    "new1 = arr[ga]\n",
    "new2 = arr[sa]\n",
    "print(new)\n",
    "print(new1)\n",
    "print(new2)\n",
    "\n",
    "fa = arr>34\n",
    "new = arr[fa]\n",
    "print(new)\n",
    "fa = arr%2 == 0\n",
    "new = arr[fa]\n",
    "print(new)"
   ]
  },
  {
   "cell_type": "code",
   "execution_count": 78,
   "id": "a0e8c3e3-ea83-426a-b250-bd4c6d018c45",
   "metadata": {},
   "outputs": [
    {
     "name": "stdout",
     "output_type": "stream",
     "text": [
      "267\n",
      "-13\n",
      "67\n",
      "12\n",
      "22.25\n",
      "[ 34  57  78  65 110 133 144 211 265 267 268 267]\n",
      "[         34         782       16422     -213486    -9606870  -220958010\n",
      "  1864429186   362703878 -1888827068   517313160   517313160  -517313160]\n"
     ]
    }
   ],
   "source": [
    "# Aggregating function\n",
    "\n",
    "arr = np.array([34,23,21,-13,45,23,11,67,54,2,1,-1])\n",
    "print(np.sum(arr))\n",
    "print(np.min(arr))\n",
    "print(np.max(arr))\n",
    "print(np.size(arr))\n",
    "print(np.mean(arr))\n",
    "print(np.cumsum(arr))\n",
    "print(np.cumprod(arr))\n"
   ]
  },
  {
   "cell_type": "code",
   "execution_count": 84,
   "id": "99e95afe-f65c-4f6b-8a73-1bdef85f728b",
   "metadata": {},
   "outputs": [
    {
     "name": "stdout",
     "output_type": "stream",
     "text": [
      "[ 33  44  49  43 454  34] \n",
      " [ 30  40  49  43 453 567]\n",
      "657\n",
      "[  33   77  126  169  623  657  687  727  776  819 1272 1839]\n",
      "\n",
      "[[    33     44     49     43    454     34]\n",
      " [   990   1760   2401   1849 205662  19278]]\n",
      "231940\n"
     ]
    }
   ],
   "source": [
    "price = np.array([33,44,49,43,454,34])\n",
    "quantity = np.array([30,40,49,43,453,567])\n",
    "print(price,\"\\n\",quantity)\n",
    "print(np.sum(price))\n",
    "print(np.cumsum([price,quantity]))\n",
    "print()\n",
    "c = (np.cumprod([price,quantity],axis = 0))\n",
    "print(c)\n",
    "print(c[1].sum())\n"
   ]
  },
  {
   "cell_type": "code",
   "execution_count": null,
   "id": "47830616-9af5-4aed-8e50-a7f38d04eb56",
   "metadata": {},
   "outputs": [],
   "source": [
    "### ==== statistical function ==== ###"
   ]
  },
  {
   "cell_type": "code",
   "execution_count": 95,
   "id": "deb2366a-4032-46c7-ad7e-e53636ff1e7b",
   "metadata": {},
   "outputs": [
    {
     "name": "stdout",
     "output_type": "stream",
     "text": [
      "217.125\n",
      "149.5\n",
      "133\n",
      "111.69202914711506\n",
      "12475.109375\n"
     ]
    }
   ],
   "source": [
    "import statistics as stats\n",
    "baked_food = [133,244,149,143,454,334,130,150]\n",
    "a = np.array(baked_food)\n",
    "print(np.mean(a)) # sum of all the values/number of values\n",
    "# print(np.mean(baked_food))\n",
    "print(np.median(a)) # central value after sorting\n",
    "print(stats.mode(baked_food))\n",
    "print(np.std(baked_food))\n",
    "print(np.var(baked_food))\n",
    "\n"
   ]
  },
  {
   "cell_type": "code",
   "execution_count": 98,
   "id": "4382d6bb-a19b-43bc-b34b-3f803b42f7a8",
   "metadata": {},
   "outputs": [
    {
     "name": "stdout",
     "output_type": "stream",
     "text": [
      "[[1.         0.99015454]\n",
      " [0.99015454 1.        ]]\n"
     ]
    }
   ],
   "source": [
    " # -1 represent inversely proportional relationship\n",
    "# 1 represents proportonal relationship \n",
    "# 0 means no relatonship \n",
    "\n",
    "tabacco_consumption = [30,50,10,30,50,40]\n",
    "deaths = [100,120,70,100,120,112]\n",
    "\n",
    "\n",
    "print(np.corrcoef([tabacco_consumption,deaths])) # corrcoef : coffecants of corelaton.\n",
    "# to check dependence of two data in each other by : corrcoef"
   ]
  },
  {
   "cell_type": "code",
   "execution_count": 97,
   "id": "83ee9846-10fa-4e5c-9ca5-3bf478171548",
   "metadata": {},
   "outputs": [
    {
     "name": "stdout",
     "output_type": "stream",
     "text": [
      "[[ 1.         -0.66621445]\n",
      " [-0.66621445  1.        ]]\n"
     ]
    }
   ],
   "source": [
    "price = [300,100,350,150,200]\n",
    "sales = [10,20,7,17,3]\n",
    "\n",
    "print(np.corrcoef([price,sales]))"
   ]
  }
 ],
 "metadata": {
  "kernelspec": {
   "display_name": "Python 3 (ipykernel)",
   "language": "python",
   "name": "python3"
  },
  "language_info": {
   "codemirror_mode": {
    "name": "ipython",
    "version": 3
   },
   "file_extension": ".py",
   "mimetype": "text/x-python",
   "name": "python",
   "nbconvert_exporter": "python",
   "pygments_lexer": "ipython3",
   "version": "3.12.2"
  }
 },
 "nbformat": 4,
 "nbformat_minor": 5
}
