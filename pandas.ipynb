{
 "cells": [
  {
   "cell_type": "code",
   "execution_count": 1,
   "id": "7a2e4ceb-fdc0-4f82-b114-fde1b4a0b62c",
   "metadata": {},
   "outputs": [
    {
     "name": "stdout",
     "output_type": "stream",
     "text": [
      "     Name  Age  Salary\n",
      "0    john   21  300000\n",
      "1  pitter   23   45000\n",
      "2    lisa   22   25000\n"
     ]
    }
   ],
   "source": [
    "# import pandas as pd\n",
    "\n",
    "data = {\"Name\":[\"john\",\"pitter\",\"lisa\"],\n",
    "       \"Age\":[21,23,22],\n",
    "       \"Salary\":[300000,45000,25000]}\n",
    "df = pd.DataFrame(data)\n",
    "print(df)"
   ]
  },
  {
   "cell_type": "code",
   "execution_count": 3,
   "id": "e8b1b438-19f2-44e2-b4a2-b9f7f8b75950",
   "metadata": {},
   "outputs": [
    {
     "name": "stdout",
     "output_type": "stream",
     "text": [
      "               hotel market_segment deposit_type  lead_time  \\\n",
      "0       Resort Hotel         Direct   No Deposit        342   \n",
      "1       Resort Hotel         Direct   No Deposit        737   \n",
      "2       Resort Hotel         Direct   No Deposit          7   \n",
      "3       Resort Hotel      Corporate   No Deposit         13   \n",
      "4       Resort Hotel      Online TA   No Deposit         14   \n",
      "...              ...            ...          ...        ...   \n",
      "119385    City Hotel  Offline TA/TO   No Deposit         23   \n",
      "119386    City Hotel      Online TA   No Deposit        102   \n",
      "119387    City Hotel      Online TA   No Deposit         34   \n",
      "119388    City Hotel      Online TA   No Deposit        109   \n",
      "119389    City Hotel      Online TA   No Deposit        205   \n",
      "\n",
      "        previous_cancellations  previous_bookings_not_canceled  \\\n",
      "0                            0                               0   \n",
      "1                            0                               0   \n",
      "2                            0                               0   \n",
      "3                            0                               0   \n",
      "4                            0                               0   \n",
      "...                        ...                             ...   \n",
      "119385                       0                               0   \n",
      "119386                       0                               0   \n",
      "119387                       0                               0   \n",
      "119388                       0                               0   \n",
      "119389                       0                               0   \n",
      "\n",
      "        days_in_waiting_list  booking_changes  total_of_special_requests  \\\n",
      "0                          0                3                          0   \n",
      "1                          0                4                          0   \n",
      "2                          0                0                          0   \n",
      "3                          0                0                          0   \n",
      "4                          0                0                          1   \n",
      "...                      ...              ...                        ...   \n",
      "119385                     0                0                          0   \n",
      "119386                     0                0                          2   \n",
      "119387                     0                0                          4   \n",
      "119388                     0                0                          0   \n",
      "119389                     0                0                          2   \n",
      "\n",
      "        is_canceled  \n",
      "0                 0  \n",
      "1                 0  \n",
      "2                 0  \n",
      "3                 0  \n",
      "4                 0  \n",
      "...             ...  \n",
      "119385            0  \n",
      "119386            0  \n",
      "119387            0  \n",
      "119388            0  \n",
      "119389            0  \n",
      "\n",
      "[119390 rows x 10 columns]\n"
     ]
    }
   ],
   "source": [
    "import pandas as pd\n",
    "\n",
    "data = pd.read_csv(\"C:/Users/HP/OneDrive - gnindia.dronacharya.info/Desktop/Numpy Jupyter/bookings.csv\")\n",
    "print(data)"
   ]
  },
  {
   "cell_type": "code",
   "execution_count": 9,
   "id": "dec5d4c4-1d52-4a0f-9c6d-c64ab578129c",
   "metadata": {},
   "outputs": [
    {
     "name": "stdout",
     "output_type": "stream",
     "text": [
      "               hotel market_segment deposit_type  lead_time  \\\n",
      "0       Resort Hotel         Direct   No Deposit        342   \n",
      "1       Resort Hotel         Direct   No Deposit        737   \n",
      "2       Resort Hotel         Direct   No Deposit          7   \n",
      "3       Resort Hotel      Corporate   No Deposit         13   \n",
      "4       Resort Hotel      Online TA   No Deposit         14   \n",
      "...              ...            ...          ...        ...   \n",
      "119385    City Hotel  Offline TA/TO   No Deposit         23   \n",
      "119386    City Hotel      Online TA   No Deposit        102   \n",
      "119387    City Hotel      Online TA   No Deposit         34   \n",
      "119388    City Hotel      Online TA   No Deposit        109   \n",
      "119389    City Hotel      Online TA   No Deposit        205   \n",
      "\n",
      "        previous_cancellations  previous_bookings_not_canceled  \\\n",
      "0                            0                               0   \n",
      "1                            0                               0   \n",
      "2                            0                               0   \n",
      "3                            0                               0   \n",
      "4                            0                               0   \n",
      "...                        ...                             ...   \n",
      "119385                       0                               0   \n",
      "119386                       0                               0   \n",
      "119387                       0                               0   \n",
      "119388                       0                               0   \n",
      "119389                       0                               0   \n",
      "\n",
      "        days_in_waiting_list  booking_changes  total_of_special_requests  \\\n",
      "0                          0                3                          0   \n",
      "1                          0                4                          0   \n",
      "2                          0                0                          0   \n",
      "3                          0                0                          0   \n",
      "4                          0                0                          1   \n",
      "...                      ...              ...                        ...   \n",
      "119385                     0                0                          0   \n",
      "119386                     0                0                          2   \n",
      "119387                     0                0                          4   \n",
      "119388                     0                0                          0   \n",
      "119389                     0                0                          2   \n",
      "\n",
      "        is_canceled  \n",
      "0                 0  \n",
      "1                 0  \n",
      "2                 0  \n",
      "3                 0  \n",
      "4                 0  \n",
      "...             ...  \n",
      "119385            0  \n",
      "119386            0  \n",
      "119387            0  \n",
      "119388            0  \n",
      "119389            0  \n",
      "\n",
      "[119390 rows x 10 columns]\n"
     ]
    }
   ],
   "source": [
    "data = pd.read_excel(\"C:/Users/HP/OneDrive - gnindia.dronacharya.info/Desktop/Numpy Jupyter/bookingsnew.xlsx\")\n",
    "print(data)"
   ]
  },
  {
   "cell_type": "code",
   "execution_count": 19,
   "id": "111bfb6d-768c-406c-a077-e064c5d1f7a9",
   "metadata": {},
   "outputs": [
    {
     "name": "stdout",
     "output_type": "stream",
     "text": [
      "          hotel market_segment deposit_type  lead_time  \\\n",
      "0  Resort Hotel         Direct   No Deposit        342   \n",
      "1  Resort Hotel         Direct   No Deposit        737   \n",
      "2  Resort Hotel         Direct   No Deposit          7   \n",
      "3  Resort Hotel      Corporate   No Deposit         13   \n",
      "4  Resort Hotel      Online TA   No Deposit         14   \n",
      "5  Resort Hotel      Online TA   No Deposit         14   \n",
      "6  Resort Hotel         Direct   No Deposit          0   \n",
      "7  Resort Hotel         Direct   No Deposit          9   \n",
      "8  Resort Hotel      Online TA   No Deposit         85   \n",
      "9  Resort Hotel  Offline TA/TO   No Deposit         75   \n",
      "\n",
      "   previous_cancellations  previous_bookings_not_canceled  \\\n",
      "0                       0                               0   \n",
      "1                       0                               0   \n",
      "2                       0                               0   \n",
      "3                       0                               0   \n",
      "4                       0                               0   \n",
      "5                       0                               0   \n",
      "6                       0                               0   \n",
      "7                       0                               0   \n",
      "8                       0                               0   \n",
      "9                       0                               0   \n",
      "\n",
      "   days_in_waiting_list  booking_changes  total_of_special_requests  \\\n",
      "0                     0                3                          0   \n",
      "1                     0                4                          0   \n",
      "2                     0                0                          0   \n",
      "3                     0                0                          0   \n",
      "4                     0                0                          1   \n",
      "5                     0                0                          1   \n",
      "6                     0                0                          0   \n",
      "7                     0                0                          1   \n",
      "8                     0                0                          1   \n",
      "9                     0                0                          0   \n",
      "\n",
      "   is_canceled  \n",
      "0            0  \n",
      "1            0  \n",
      "2            0  \n",
      "3            0  \n",
      "4            0  \n",
      "5            0  \n",
      "6            0  \n",
      "7            0  \n",
      "8            1  \n",
      "9            1  \n",
      "             hotel market_segment deposit_type  lead_time  \\\n",
      "119380  City Hotel      Online TA   No Deposit         44   \n",
      "119381  City Hotel         Direct   No Deposit        188   \n",
      "119382  City Hotel      Online TA   No Deposit        135   \n",
      "119383  City Hotel  Offline TA/TO   No Deposit        164   \n",
      "119384  City Hotel  Offline TA/TO   No Deposit         21   \n",
      "119385  City Hotel  Offline TA/TO   No Deposit         23   \n",
      "119386  City Hotel      Online TA   No Deposit        102   \n",
      "119387  City Hotel      Online TA   No Deposit         34   \n",
      "119388  City Hotel      Online TA   No Deposit        109   \n",
      "119389  City Hotel      Online TA   No Deposit        205   \n",
      "\n",
      "        previous_cancellations  previous_bookings_not_canceled  \\\n",
      "119380                       0                               0   \n",
      "119381                       0                               0   \n",
      "119382                       0                               0   \n",
      "119383                       0                               0   \n",
      "119384                       0                               0   \n",
      "119385                       0                               0   \n",
      "119386                       0                               0   \n",
      "119387                       0                               0   \n",
      "119388                       0                               0   \n",
      "119389                       0                               0   \n",
      "\n",
      "        days_in_waiting_list  booking_changes  total_of_special_requests  \\\n",
      "119380                     0                0                          1   \n",
      "119381                     0                0                          0   \n",
      "119382                     0                0                          0   \n",
      "119383                     0                0                          0   \n",
      "119384                     0                0                          2   \n",
      "119385                     0                0                          0   \n",
      "119386                     0                0                          2   \n",
      "119387                     0                0                          4   \n",
      "119388                     0                0                          0   \n",
      "119389                     0                0                          2   \n",
      "\n",
      "        is_canceled  \n",
      "119380            0  \n",
      "119381            0  \n",
      "119382            0  \n",
      "119383            0  \n",
      "119384            0  \n",
      "119385            0  \n",
      "119386            0  \n",
      "119387            0  \n",
      "119388            0  \n",
      "119389            0  \n",
      "          hotel market_segment deposit_type  lead_time  \\\n",
      "0  Resort Hotel         Direct   No Deposit        342   \n",
      "1  Resort Hotel         Direct   No Deposit        737   \n",
      "2  Resort Hotel         Direct   No Deposit          7   \n",
      "3  Resort Hotel      Corporate   No Deposit         13   \n",
      "4  Resort Hotel      Online TA   No Deposit         14   \n",
      "\n",
      "   previous_cancellations  previous_bookings_not_canceled  \\\n",
      "0                       0                               0   \n",
      "1                       0                               0   \n",
      "2                       0                               0   \n",
      "3                       0                               0   \n",
      "4                       0                               0   \n",
      "\n",
      "   days_in_waiting_list  booking_changes  total_of_special_requests  \\\n",
      "0                     0                3                          0   \n",
      "1                     0                4                          0   \n",
      "2                     0                0                          0   \n",
      "3                     0                0                          0   \n",
      "4                     0                0                          1   \n",
      "\n",
      "   is_canceled  \n",
      "0            0  \n",
      "1            0  \n",
      "2            0  \n",
      "3            0  \n",
      "4            0  \n",
      "             hotel market_segment deposit_type  lead_time  \\\n",
      "119385  City Hotel  Offline TA/TO   No Deposit         23   \n",
      "119386  City Hotel      Online TA   No Deposit        102   \n",
      "119387  City Hotel      Online TA   No Deposit         34   \n",
      "119388  City Hotel      Online TA   No Deposit        109   \n",
      "119389  City Hotel      Online TA   No Deposit        205   \n",
      "\n",
      "        previous_cancellations  previous_bookings_not_canceled  \\\n",
      "119385                       0                               0   \n",
      "119386                       0                               0   \n",
      "119387                       0                               0   \n",
      "119388                       0                               0   \n",
      "119389                       0                               0   \n",
      "\n",
      "        days_in_waiting_list  booking_changes  total_of_special_requests  \\\n",
      "119385                     0                0                          0   \n",
      "119386                     0                0                          2   \n",
      "119387                     0                0                          4   \n",
      "119388                     0                0                          0   \n",
      "119389                     0                0                          2   \n",
      "\n",
      "        is_canceled  \n",
      "119385            0  \n",
      "119386            0  \n",
      "119387            0  \n",
      "119388            0  \n",
      "119389            0  \n"
     ]
    }
   ],
   "source": [
    "# Exploring Data in pandas\n",
    "\n",
    "data = pd.read_excel(\"C:/Users/HP/OneDrive - gnindia.dronacharya.info/Desktop/Numpy Jupyter/bookingsnew.xlsx\")\n",
    "# print(data)\n",
    "print(data.head(10))\n",
    "print(data.tail(10))\n",
    "\n",
    "print(data.head())\n",
    "print(data.tail())# by default gives fives values"
   ]
  },
  {
   "cell_type": "code",
   "execution_count": 21,
   "id": "b78cf4a5-9663-4a62-aa02-30e24ef792bf",
   "metadata": {},
   "outputs": [
    {
     "name": "stdout",
     "output_type": "stream",
     "text": [
      "<class 'pandas.core.frame.DataFrame'>\n",
      "RangeIndex: 119390 entries, 0 to 119389\n",
      "Data columns (total 10 columns):\n",
      " #   Column                          Non-Null Count   Dtype \n",
      "---  ------                          --------------   ----- \n",
      " 0   hotel                           119390 non-null  object\n",
      " 1   market_segment                  119390 non-null  object\n",
      " 2   deposit_type                    119390 non-null  object\n",
      " 3   lead_time                       119390 non-null  int64 \n",
      " 4   previous_cancellations          119390 non-null  int64 \n",
      " 5   previous_bookings_not_canceled  119390 non-null  int64 \n",
      " 6   days_in_waiting_list            119390 non-null  int64 \n",
      " 7   booking_changes                 119390 non-null  int64 \n",
      " 8   total_of_special_requests       119390 non-null  int64 \n",
      " 9   is_canceled                     119390 non-null  int64 \n",
      "dtypes: int64(7), object(3)\n",
      "memory usage: 9.1+ MB\n",
      "None\n"
     ]
    }
   ],
   "source": [
    "print(data.info())"
   ]
  },
  {
   "cell_type": "code",
   "execution_count": 22,
   "id": "9be56cbb-3a93-41fc-bdd9-d39857adba1a",
   "metadata": {},
   "outputs": [
    {
     "data": {
      "text/html": [
       "<div>\n",
       "<style scoped>\n",
       "    .dataframe tbody tr th:only-of-type {\n",
       "        vertical-align: middle;\n",
       "    }\n",
       "\n",
       "    .dataframe tbody tr th {\n",
       "        vertical-align: top;\n",
       "    }\n",
       "\n",
       "    .dataframe thead th {\n",
       "        text-align: right;\n",
       "    }\n",
       "</style>\n",
       "<table border=\"1\" class=\"dataframe\">\n",
       "  <thead>\n",
       "    <tr style=\"text-align: right;\">\n",
       "      <th></th>\n",
       "      <th>lead_time</th>\n",
       "      <th>previous_cancellations</th>\n",
       "      <th>previous_bookings_not_canceled</th>\n",
       "      <th>days_in_waiting_list</th>\n",
       "      <th>booking_changes</th>\n",
       "      <th>total_of_special_requests</th>\n",
       "      <th>is_canceled</th>\n",
       "    </tr>\n",
       "  </thead>\n",
       "  <tbody>\n",
       "    <tr>\n",
       "      <th>count</th>\n",
       "      <td>119390.000000</td>\n",
       "      <td>119390.000000</td>\n",
       "      <td>119390.000000</td>\n",
       "      <td>119390.000000</td>\n",
       "      <td>119390.000000</td>\n",
       "      <td>119390.000000</td>\n",
       "      <td>119390.000000</td>\n",
       "    </tr>\n",
       "    <tr>\n",
       "      <th>mean</th>\n",
       "      <td>104.011416</td>\n",
       "      <td>0.087118</td>\n",
       "      <td>0.137097</td>\n",
       "      <td>2.321149</td>\n",
       "      <td>0.221124</td>\n",
       "      <td>0.571363</td>\n",
       "      <td>0.370416</td>\n",
       "    </tr>\n",
       "    <tr>\n",
       "      <th>std</th>\n",
       "      <td>106.863097</td>\n",
       "      <td>0.844336</td>\n",
       "      <td>1.497437</td>\n",
       "      <td>17.594721</td>\n",
       "      <td>0.652306</td>\n",
       "      <td>0.792798</td>\n",
       "      <td>0.482918</td>\n",
       "    </tr>\n",
       "    <tr>\n",
       "      <th>min</th>\n",
       "      <td>0.000000</td>\n",
       "      <td>0.000000</td>\n",
       "      <td>0.000000</td>\n",
       "      <td>0.000000</td>\n",
       "      <td>0.000000</td>\n",
       "      <td>0.000000</td>\n",
       "      <td>0.000000</td>\n",
       "    </tr>\n",
       "    <tr>\n",
       "      <th>25%</th>\n",
       "      <td>18.000000</td>\n",
       "      <td>0.000000</td>\n",
       "      <td>0.000000</td>\n",
       "      <td>0.000000</td>\n",
       "      <td>0.000000</td>\n",
       "      <td>0.000000</td>\n",
       "      <td>0.000000</td>\n",
       "    </tr>\n",
       "    <tr>\n",
       "      <th>50%</th>\n",
       "      <td>69.000000</td>\n",
       "      <td>0.000000</td>\n",
       "      <td>0.000000</td>\n",
       "      <td>0.000000</td>\n",
       "      <td>0.000000</td>\n",
       "      <td>0.000000</td>\n",
       "      <td>0.000000</td>\n",
       "    </tr>\n",
       "    <tr>\n",
       "      <th>75%</th>\n",
       "      <td>160.000000</td>\n",
       "      <td>0.000000</td>\n",
       "      <td>0.000000</td>\n",
       "      <td>0.000000</td>\n",
       "      <td>0.000000</td>\n",
       "      <td>1.000000</td>\n",
       "      <td>1.000000</td>\n",
       "    </tr>\n",
       "    <tr>\n",
       "      <th>max</th>\n",
       "      <td>737.000000</td>\n",
       "      <td>26.000000</td>\n",
       "      <td>72.000000</td>\n",
       "      <td>391.000000</td>\n",
       "      <td>21.000000</td>\n",
       "      <td>5.000000</td>\n",
       "      <td>1.000000</td>\n",
       "    </tr>\n",
       "  </tbody>\n",
       "</table>\n",
       "</div>"
      ],
      "text/plain": [
       "           lead_time  previous_cancellations  previous_bookings_not_canceled  \\\n",
       "count  119390.000000           119390.000000                   119390.000000   \n",
       "mean      104.011416                0.087118                        0.137097   \n",
       "std       106.863097                0.844336                        1.497437   \n",
       "min         0.000000                0.000000                        0.000000   \n",
       "25%        18.000000                0.000000                        0.000000   \n",
       "50%        69.000000                0.000000                        0.000000   \n",
       "75%       160.000000                0.000000                        0.000000   \n",
       "max       737.000000               26.000000                       72.000000   \n",
       "\n",
       "       days_in_waiting_list  booking_changes  total_of_special_requests  \\\n",
       "count         119390.000000    119390.000000              119390.000000   \n",
       "mean               2.321149         0.221124                   0.571363   \n",
       "std               17.594721         0.652306                   0.792798   \n",
       "min                0.000000         0.000000                   0.000000   \n",
       "25%                0.000000         0.000000                   0.000000   \n",
       "50%                0.000000         0.000000                   0.000000   \n",
       "75%                0.000000         0.000000                   1.000000   \n",
       "max              391.000000        21.000000                   5.000000   \n",
       "\n",
       "         is_canceled  \n",
       "count  119390.000000  \n",
       "mean        0.370416  \n",
       "std         0.482918  \n",
       "min         0.000000  \n",
       "25%         0.000000  \n",
       "50%         0.000000  \n",
       "75%         1.000000  \n",
       "max         1.000000  "
      ]
     },
     "execution_count": 22,
     "metadata": {},
     "output_type": "execute_result"
    }
   ],
   "source": [
    "data.describe()"
   ]
  },
  {
   "cell_type": "code",
   "execution_count": 23,
   "id": "c8b618d3-6335-4ea4-9f32-8d7a243adaeb",
   "metadata": {},
   "outputs": [
    {
     "name": "stdout",
     "output_type": "stream",
     "text": [
      "        hotel  market_segment  deposit_type  lead_time  \\\n",
      "0       False           False         False      False   \n",
      "1       False           False         False      False   \n",
      "2       False           False         False      False   \n",
      "3       False           False         False      False   \n",
      "4       False           False         False      False   \n",
      "...       ...             ...           ...        ...   \n",
      "119385  False           False         False      False   \n",
      "119386  False           False         False      False   \n",
      "119387  False           False         False      False   \n",
      "119388  False           False         False      False   \n",
      "119389  False           False         False      False   \n",
      "\n",
      "        previous_cancellations  previous_bookings_not_canceled  \\\n",
      "0                        False                           False   \n",
      "1                        False                           False   \n",
      "2                        False                           False   \n",
      "3                        False                           False   \n",
      "4                        False                           False   \n",
      "...                        ...                             ...   \n",
      "119385                   False                           False   \n",
      "119386                   False                           False   \n",
      "119387                   False                           False   \n",
      "119388                   False                           False   \n",
      "119389                   False                           False   \n",
      "\n",
      "        days_in_waiting_list  booking_changes  total_of_special_requests  \\\n",
      "0                      False            False                      False   \n",
      "1                      False            False                      False   \n",
      "2                      False            False                      False   \n",
      "3                      False            False                      False   \n",
      "4                      False            False                      False   \n",
      "...                      ...              ...                        ...   \n",
      "119385                 False            False                      False   \n",
      "119386                 False            False                      False   \n",
      "119387                 False            False                      False   \n",
      "119388                 False            False                      False   \n",
      "119389                 False            False                      False   \n",
      "\n",
      "        is_canceled  \n",
      "0             False  \n",
      "1             False  \n",
      "2             False  \n",
      "3             False  \n",
      "4             False  \n",
      "...             ...  \n",
      "119385        False  \n",
      "119386        False  \n",
      "119387        False  \n",
      "119388        False  \n",
      "119389        False  \n",
      "\n",
      "[119390 rows x 10 columns]\n"
     ]
    }
   ],
   "source": [
    "print(data.isnull())\n"
   ]
  },
  {
   "cell_type": "code",
   "execution_count": 24,
   "id": "fda86926-9d3a-4c2b-85ec-db61ddf2063f",
   "metadata": {},
   "outputs": [
    {
     "name": "stdout",
     "output_type": "stream",
     "text": [
      "hotel                             0\n",
      "market_segment                    0\n",
      "deposit_type                      0\n",
      "lead_time                         0\n",
      "previous_cancellations            0\n",
      "previous_bookings_not_canceled    0\n",
      "days_in_waiting_list              0\n",
      "booking_changes                   0\n",
      "total_of_special_requests         0\n",
      "is_canceled                       0\n",
      "dtype: int64\n"
     ]
    }
   ],
   "source": [
    "print(data.isnull().sum())"
   ]
  },
  {
   "cell_type": "code",
   "execution_count": 27,
   "id": "75df6eb7-431a-4df2-8675-10ccd75fea4c",
   "metadata": {},
   "outputs": [
    {
     "name": "stdout",
     "output_type": "stream",
     "text": [
      "               hotel market_segment deposit_type  lead_time  \\\n",
      "0       Resort Hotel         Direct   No Deposit        342   \n",
      "1       Resort Hotel         Direct   No Deposit        737   \n",
      "2       Resort Hotel         Direct   No Deposit          7   \n",
      "3       Resort Hotel      Corporate   No Deposit         13   \n",
      "4       Resort Hotel      Online TA   No Deposit         14   \n",
      "...              ...            ...          ...        ...   \n",
      "119385    City Hotel  Offline TA/TO   No Deposit         23   \n",
      "119386    City Hotel      Online TA   No Deposit        102   \n",
      "119387    City Hotel      Online TA   No Deposit         34   \n",
      "119388    City Hotel      Online TA   No Deposit        109   \n",
      "119389    City Hotel      Online TA   No Deposit        205   \n",
      "\n",
      "        previous_cancellations  previous_bookings_not_canceled  \\\n",
      "0                            0                               0   \n",
      "1                            0                               0   \n",
      "2                            0                               0   \n",
      "3                            0                               0   \n",
      "4                            0                               0   \n",
      "...                        ...                             ...   \n",
      "119385                       0                               0   \n",
      "119386                       0                               0   \n",
      "119387                       0                               0   \n",
      "119388                       0                               0   \n",
      "119389                       0                               0   \n",
      "\n",
      "        days_in_waiting_list  booking_changes  total_of_special_requests  \\\n",
      "0                          0                3                          0   \n",
      "1                          0                4                          0   \n",
      "2                          0                0                          0   \n",
      "3                          0                0                          0   \n",
      "4                          0                0                          1   \n",
      "...                      ...              ...                        ...   \n",
      "119385                     0                0                          0   \n",
      "119386                     0                0                          2   \n",
      "119387                     0                0                          4   \n",
      "119388                     0                0                          0   \n",
      "119389                     0                0                          2   \n",
      "\n",
      "        is_canceled  \n",
      "0                 0  \n",
      "1                 0  \n",
      "2                 0  \n",
      "3                 0  \n",
      "4                 0  \n",
      "...             ...  \n",
      "119385            0  \n",
      "119386            0  \n",
      "119387            0  \n",
      "119388            0  \n",
      "119389            0  \n",
      "\n",
      "[119390 rows x 10 columns]\n"
     ]
    }
   ],
   "source": [
    "# handling Duplicate values in pandas\n",
    "data = pd.read_excel(\"C:/Users/HP/OneDrive - gnindia.dronacharya.info/Desktop/Numpy Jupyter/bookingsnew.xlsx\")\n",
    "print(data)\n"
   ]
  },
  {
   "cell_type": "code",
   "execution_count": 26,
   "id": "c9003522-0827-42f4-9863-7242529a2bac",
   "metadata": {},
   "outputs": [
    {
     "name": "stdout",
     "output_type": "stream",
     "text": [
      "0         False\n",
      "1         False\n",
      "2         False\n",
      "3         False\n",
      "4         False\n",
      "          ...  \n",
      "119385     True\n",
      "119386     True\n",
      "119387    False\n",
      "119388     True\n",
      "119389     True\n",
      "Length: 119390, dtype: bool\n"
     ]
    }
   ],
   "source": [
    "print(data.duplicated()) # find duplicates of only unique variable"
   ]
  },
  {
   "cell_type": "code",
   "execution_count": 28,
   "id": "ebb39ddf-1acb-4c04-8ec0-26f63f932ad4",
   "metadata": {},
   "outputs": [
    {
     "name": "stdout",
     "output_type": "stream",
     "text": [
      "0         False\n",
      "1          True\n",
      "2          True\n",
      "3          True\n",
      "4          True\n",
      "          ...  \n",
      "119385     True\n",
      "119386     True\n",
      "119387     True\n",
      "119388     True\n",
      "119389     True\n",
      "Name: hotel, Length: 119390, dtype: bool\n"
     ]
    }
   ],
   "source": [
    "print(data[\"hotel\"].duplicated())"
   ]
  },
  {
   "cell_type": "code",
   "execution_count": 35,
   "id": "84f546cd-d987-40dd-924e-d36d726f4a12",
   "metadata": {},
   "outputs": [
    {
     "name": "stdout",
     "output_type": "stream",
     "text": [
      "119388\n"
     ]
    }
   ],
   "source": [
    "print(data[\"hotel\"].duplicated().sum())"
   ]
  },
  {
   "cell_type": "code",
   "execution_count": 33,
   "id": "7381e28b-26cd-4281-ba45-eb28644216b0",
   "metadata": {},
   "outputs": [
    {
     "name": "stdout",
     "output_type": "stream",
     "text": [
      "              hotel market_segment deposit_type  lead_time  \\\n",
      "0      Resort Hotel         Direct   No Deposit        342   \n",
      "40060    City Hotel  Offline TA/TO   No Deposit          6   \n",
      "\n",
      "       previous_cancellations  previous_bookings_not_canceled  \\\n",
      "0                           0                               0   \n",
      "40060                       0                               0   \n",
      "\n",
      "       days_in_waiting_list  booking_changes  total_of_special_requests  \\\n",
      "0                         0                3                          0   \n",
      "40060                     0                0                          0   \n",
      "\n",
      "       is_canceled  \n",
      "0                0  \n",
      "40060            0  \n"
     ]
    }
   ],
   "source": [
    "print(data.drop_duplicates(\"hotel\"))"
   ]
  },
  {
   "cell_type": "code",
   "execution_count": 5,
   "id": "86ffeba6-e02d-4f64-a141-107a43c850a7",
   "metadata": {},
   "outputs": [
    {
     "name": "stdout",
     "output_type": "stream",
     "text": [
      "      Restaurant ID           Restaurant Name  Country Code              City  \\\n",
      "0           6317637          Le Petit Souffle           162       Makati City   \n",
      "1           6304287          Izakaya Kikufuji           162       Makati City   \n",
      "2           6300002    Heat - Edsa Shangri-La           162  Mandaluyong City   \n",
      "3           6318506                      Ooma           162  Mandaluyong City   \n",
      "4           6314302               Sambo Kojin           162  Mandaluyong City   \n",
      "...             ...                       ...           ...               ...   \n",
      "9546        5915730               Naml۱ Gurme           208         ��stanbul   \n",
      "9547        5908749              Ceviz A��ac۱           208         ��stanbul   \n",
      "9548        5915807                     Huqqa           208         ��stanbul   \n",
      "9549        5916112               A���k Kahve           208         ��stanbul   \n",
      "9550        5927402  Walter's Coffee Roastery           208         ��stanbul   \n",
      "\n",
      "                                                Address  \\\n",
      "0     Third Floor, Century City Mall, Kalayaan Avenu...   \n",
      "1     Little Tokyo, 2277 Chino Roces Avenue, Legaspi...   \n",
      "2     Edsa Shangri-La, 1 Garden Way, Ortigas, Mandal...   \n",
      "3     Third Floor, Mega Fashion Hall, SM Megamall, O...   \n",
      "4     Third Floor, Mega Atrium, SM Megamall, Ortigas...   \n",
      "...                                                 ...   \n",
      "9546  Kemanke�� Karamustafa Pa��a Mahallesi, R۱ht۱m ...   \n",
      "9547  Ko��uyolu Mahallesi, Muhittin ��st�_nda�� Cadd...   \n",
      "9548  Kuru�_e��me Mahallesi, Muallim Naci Caddesi, N...   \n",
      "9549  Kuru�_e��me Mahallesi, Muallim Naci Caddesi, N...   \n",
      "9550  Cafea��a Mahallesi, Bademalt۱ Sokak, No 21/B, ...   \n",
      "\n",
      "                                        Locality  \\\n",
      "0      Century City Mall, Poblacion, Makati City   \n",
      "1     Little Tokyo, Legaspi Village, Makati City   \n",
      "2     Edsa Shangri-La, Ortigas, Mandaluyong City   \n",
      "3         SM Megamall, Ortigas, Mandaluyong City   \n",
      "4         SM Megamall, Ortigas, Mandaluyong City   \n",
      "...                                          ...   \n",
      "9546                                    Karak�_y   \n",
      "9547                                   Ko��uyolu   \n",
      "9548                                 Kuru�_e��me   \n",
      "9549                                 Kuru�_e��me   \n",
      "9550                                        Moda   \n",
      "\n",
      "                                       Locality Verbose   Longitude  \\\n",
      "0     Century City Mall, Poblacion, Makati City, Mak...  121.027535   \n",
      "1     Little Tokyo, Legaspi Village, Makati City, Ma...  121.014101   \n",
      "2     Edsa Shangri-La, Ortigas, Mandaluyong City, Ma...  121.056831   \n",
      "3     SM Megamall, Ortigas, Mandaluyong City, Mandal...  121.056475   \n",
      "4     SM Megamall, Ortigas, Mandaluyong City, Mandal...  121.057508   \n",
      "...                                                 ...         ...   \n",
      "9546                                Karak�_y, ��stanbul   28.977392   \n",
      "9547                               Ko��uyolu, ��stanbul   29.041297   \n",
      "9548                             Kuru�_e��me, ��stanbul   29.034640   \n",
      "9549                             Kuru�_e��me, ��stanbul   29.036019   \n",
      "9550                                    Moda, ��stanbul   29.026016   \n",
      "\n",
      "       Latitude                          Cuisines  ...          Currency  \\\n",
      "0     14.565443        French, Japanese, Desserts  ...  Botswana Pula(P)   \n",
      "1     14.553708                          Japanese  ...  Botswana Pula(P)   \n",
      "2     14.581404  Seafood, Asian, Filipino, Indian  ...  Botswana Pula(P)   \n",
      "3     14.585318                   Japanese, Sushi  ...  Botswana Pula(P)   \n",
      "4     14.584450                  Japanese, Korean  ...  Botswana Pula(P)   \n",
      "...         ...                               ...  ...               ...   \n",
      "9546  41.022793                           Turkish  ...  Turkish Lira(TL)   \n",
      "9547  41.009847   World Cuisine, Patisserie, Cafe  ...  Turkish Lira(TL)   \n",
      "9548  41.055817            Italian, World Cuisine  ...  Turkish Lira(TL)   \n",
      "9549  41.057979                   Restaurant Cafe  ...  Turkish Lira(TL)   \n",
      "9550  40.984776                              Cafe  ...  Turkish Lira(TL)   \n",
      "\n",
      "     Has Table booking Has Online delivery Is delivering now  \\\n",
      "0                  Yes                  No                No   \n",
      "1                  Yes                  No                No   \n",
      "2                  Yes                  No                No   \n",
      "3                   No                  No                No   \n",
      "4                  Yes                  No                No   \n",
      "...                ...                 ...               ...   \n",
      "9546                No                  No                No   \n",
      "9547                No                  No                No   \n",
      "9548                No                  No                No   \n",
      "9549                No                  No                No   \n",
      "9550                No                  No                No   \n",
      "\n",
      "     Switch to order menu Price range  Aggregate rating  Rating color  \\\n",
      "0                      No           3               4.8    Dark Green   \n",
      "1                      No           3               4.5    Dark Green   \n",
      "2                      No           4               4.4         Green   \n",
      "3                      No           4               4.9    Dark Green   \n",
      "4                      No           4               4.8    Dark Green   \n",
      "...                   ...         ...               ...           ...   \n",
      "9546                   No           3               4.1         Green   \n",
      "9547                   No           3               4.2         Green   \n",
      "9548                   No           4               3.7        Yellow   \n",
      "9549                   No           4               4.0         Green   \n",
      "9550                   No           2               4.0         Green   \n",
      "\n",
      "     Rating text Votes  \n",
      "0      Excellent   314  \n",
      "1      Excellent   591  \n",
      "2      Very Good   270  \n",
      "3      Excellent   365  \n",
      "4      Excellent   229  \n",
      "...          ...   ...  \n",
      "9546   Very Good   788  \n",
      "9547   Very Good  1034  \n",
      "9548        Good   661  \n",
      "9549   Very Good   901  \n",
      "9550   Very Good   591  \n",
      "\n",
      "[9551 rows x 21 columns]\n"
     ]
    }
   ],
   "source": [
    "import pandas as pd\n",
    "data = pd.read_csv(\"Dataset .csv\")\n",
    "print(data)\n"
   ]
  },
  {
   "cell_type": "code",
   "execution_count": 3,
   "id": "438dac7e-7af4-4a22-ba43-1bd411f4c187",
   "metadata": {},
   "outputs": [
    {
     "name": "stdout",
     "output_type": "stream",
     "text": [
      "hotel                             0\n",
      "market_segment                    0\n",
      "deposit_type                      0\n",
      "lead_time                         0\n",
      "previous_cancellations            0\n",
      "previous_bookings_not_canceled    0\n",
      "days_in_waiting_list              0\n",
      "booking_changes                   0\n",
      "total_of_special_requests         0\n",
      "is_canceled                       0\n",
      "dtype: int64\n"
     ]
    }
   ],
   "source": [
    "print(data.isnull().sum())"
   ]
  },
  {
   "cell_type": "code",
   "execution_count": 6,
   "id": "d424bbbc-e16b-4a2f-a905-0ce78b4ddf8d",
   "metadata": {},
   "outputs": [
    {
     "name": "stdout",
     "output_type": "stream",
     "text": [
      "Restaurant ID           0\n",
      "Restaurant Name         0\n",
      "Country Code            0\n",
      "City                    0\n",
      "Address                 0\n",
      "Locality                0\n",
      "Locality Verbose        0\n",
      "Longitude               0\n",
      "Latitude                0\n",
      "Cuisines                9\n",
      "Average Cost for two    0\n",
      "Currency                0\n",
      "Has Table booking       0\n",
      "Has Online delivery     0\n",
      "Is delivering now       0\n",
      "Switch to order menu    0\n",
      "Price range             0\n",
      "Aggregate rating        0\n",
      "Rating color            0\n",
      "Rating text             0\n",
      "Votes                   0\n",
      "dtype: int64\n"
     ]
    }
   ],
   "source": [
    "print(data.isnull().sum())"
   ]
  },
  {
   "cell_type": "code",
   "execution_count": 8,
   "id": "1a287708-d9fc-4387-9df0-268d269356d6",
   "metadata": {},
   "outputs": [
    {
     "name": "stdout",
     "output_type": "stream",
     "text": [
      "                DateTime  AUD/JPY (open)  AUD/JPY (high)  AUD/JPY (low)  \\\n",
      "0    2015-02-05 00:00:00             NaN             NaN            NaN   \n",
      "1    2015-02-06 00:00:00             NaN             NaN            NaN   \n",
      "2    2015-02-09 00:00:00             NaN             NaN            NaN   \n",
      "3    2015-02-10 00:00:00             NaN             NaN            NaN   \n",
      "4    2015-02-11 00:00:00             NaN             NaN            NaN   \n",
      "..                   ...             ...             ...            ...   \n",
      "255  2016-02-01 00:00:00          85.779          86.219         85.297   \n",
      "256  2016-02-02 00:00:00          85.899          86.163         84.086   \n",
      "257  2016-02-03 00:00:00          84.205          84.774         83.200   \n",
      "258  2016-02-04 00:00:00          84.572          85.060         83.914   \n",
      "259  2016-02-05 00:00:00          84.121          84.121         84.121   \n",
      "\n",
      "     AUD/JPY (close)  Navigator  \n",
      "0                NaN     91.003  \n",
      "1                NaN     91.668  \n",
      "2                NaN     92.333  \n",
      "3                NaN     92.442  \n",
      "4                NaN     92.907  \n",
      "..               ...        ...  \n",
      "255           85.897     85.779  \n",
      "256           84.204     85.899  \n",
      "257           84.571     84.205  \n",
      "258           84.122     84.572  \n",
      "259           84.121     84.121  \n",
      "\n",
      "[260 rows x 6 columns]\n"
     ]
    }
   ],
   "source": [
    "data = pd.read_csv(\"nullvalue.csv\")\n",
    "print(data)"
   ]
  },
  {
   "cell_type": "code",
   "execution_count": 10,
   "id": "65b08e77-dc68-4c3c-95dd-4c4cfb54bbca",
   "metadata": {},
   "outputs": [
    {
     "name": "stdout",
     "output_type": "stream",
     "text": [
      "DateTime             0\n",
      "AUD/JPY (open)     160\n",
      "AUD/JPY (high)     160\n",
      "AUD/JPY (low)      160\n",
      "AUD/JPY (close)    160\n",
      "Navigator            0\n",
      "dtype: int64\n"
     ]
    }
   ],
   "source": [
    "print(data.isnull().sum())\n"
   ]
  },
  {
   "cell_type": "code",
   "execution_count": 11,
   "id": "402d83da-1a64-409a-8401-041b859783bc",
   "metadata": {},
   "outputs": [
    {
     "name": "stdout",
     "output_type": "stream",
     "text": [
      "                DateTime  AUD/JPY (open)  AUD/JPY (high)  AUD/JPY (low)  \\\n",
      "160  2015-09-17 00:00:00          86.781          87.515         85.853   \n",
      "161  2015-09-18 00:00:00          86.316          86.868         85.797   \n",
      "162  2015-09-21 00:00:00          86.278          86.382         85.719   \n",
      "163  2015-09-22 00:00:00          85.885          86.120         84.636   \n",
      "164  2015-09-23 00:00:00          84.960          85.210         84.007   \n",
      "..                   ...             ...             ...            ...   \n",
      "255  2016-02-01 00:00:00          85.779          86.219         85.297   \n",
      "256  2016-02-02 00:00:00          85.899          86.163         84.086   \n",
      "257  2016-02-03 00:00:00          84.205          84.774         83.200   \n",
      "258  2016-02-04 00:00:00          84.572          85.060         83.914   \n",
      "259  2016-02-05 00:00:00          84.121          84.121         84.121   \n",
      "\n",
      "     AUD/JPY (close)  Navigator  \n",
      "160           86.317     86.781  \n",
      "161           86.235     86.316  \n",
      "162           85.885     86.278  \n",
      "163           84.959     85.885  \n",
      "164           84.130     84.960  \n",
      "..               ...        ...  \n",
      "255           85.897     85.779  \n",
      "256           84.204     85.899  \n",
      "257           84.571     84.205  \n",
      "258           84.122     84.572  \n",
      "259           84.121     84.121  \n",
      "\n",
      "[100 rows x 6 columns]\n"
     ]
    }
   ],
   "source": [
    "print(data.dropna())"
   ]
  },
  {
   "cell_type": "code",
   "execution_count": 12,
   "id": "bd1fef3e-68ba-404e-a86a-c29a5d5ad019",
   "metadata": {},
   "outputs": [
    {
     "name": "stdout",
     "output_type": "stream",
     "text": [
      "                DateTime  AUD/JPY (open)  AUD/JPY (high)  AUD/JPY (low)  \\\n",
      "0    2015-02-05 00:00:00             NaN             NaN            NaN   \n",
      "1    2015-02-06 00:00:00             NaN             NaN            NaN   \n",
      "2    2015-02-09 00:00:00             NaN             NaN            NaN   \n",
      "3    2015-02-10 00:00:00             NaN             NaN            NaN   \n",
      "4    2015-02-11 00:00:00             NaN             NaN            NaN   \n",
      "..                   ...             ...             ...            ...   \n",
      "255  2016-02-01 00:00:00          85.779          86.219         85.297   \n",
      "256  2016-02-02 00:00:00          85.899          86.163         84.086   \n",
      "257  2016-02-03 00:00:00          84.205          84.774         83.200   \n",
      "258  2016-02-04 00:00:00          84.572          85.060         83.914   \n",
      "259  2016-02-05 00:00:00          84.121          84.121         84.121   \n",
      "\n",
      "     AUD/JPY (close)  Navigator  \n",
      "0                NaN     91.003  \n",
      "1                NaN     91.668  \n",
      "2                NaN     92.333  \n",
      "3                NaN     92.442  \n",
      "4                NaN     92.907  \n",
      "..               ...        ...  \n",
      "255           85.897     85.779  \n",
      "256           84.204     85.899  \n",
      "257           84.571     84.205  \n",
      "258           84.122     84.572  \n",
      "259           84.121     84.121  \n",
      "\n",
      "[260 rows x 6 columns]\n"
     ]
    }
   ],
   "source": [
    "print(data)\n"
   ]
  },
  {
   "cell_type": "code",
   "execution_count": 13,
   "id": "a1e1b83d-81b6-46a2-84df-a3d1577d4a1d",
   "metadata": {},
   "outputs": [
    {
     "name": "stdout",
     "output_type": "stream",
     "text": [
      "                DateTime AUD/JPY (open) AUD/JPY (high) AUD/JPY (low)  \\\n",
      "0    2015-02-05 00:00:00             hi             hi            hi   \n",
      "1    2015-02-06 00:00:00             hi             hi            hi   \n",
      "2    2015-02-09 00:00:00             hi             hi            hi   \n",
      "3    2015-02-10 00:00:00             hi             hi            hi   \n",
      "4    2015-02-11 00:00:00             hi             hi            hi   \n",
      "..                   ...            ...            ...           ...   \n",
      "255  2016-02-01 00:00:00         85.779         86.219        85.297   \n",
      "256  2016-02-02 00:00:00         85.899         86.163        84.086   \n",
      "257  2016-02-03 00:00:00         84.205         84.774          83.2   \n",
      "258  2016-02-04 00:00:00         84.572          85.06        83.914   \n",
      "259  2016-02-05 00:00:00         84.121         84.121        84.121   \n",
      "\n",
      "    AUD/JPY (close)  Navigator  \n",
      "0                hi     91.003  \n",
      "1                hi     91.668  \n",
      "2                hi     92.333  \n",
      "3                hi     92.442  \n",
      "4                hi     92.907  \n",
      "..              ...        ...  \n",
      "255          85.897     85.779  \n",
      "256          84.204     85.899  \n",
      "257          84.571     84.205  \n",
      "258          84.122     84.572  \n",
      "259          84.121     84.121  \n",
      "\n",
      "[260 rows x 6 columns]\n"
     ]
    }
   ],
   "source": [
    "import numpy as np\n",
    "print(data.replace(np.nan,\"hi\"))"
   ]
  },
  {
   "cell_type": "code",
   "execution_count": 15,
   "id": "c0f82eb2-518b-4cce-8aed-7cca24414759",
   "metadata": {},
   "outputs": [
    {
     "name": "stdout",
     "output_type": "stream",
     "text": [
      "                DateTime  AUD/JPY (open)  AUD/JPY (high)  AUD/JPY (low)  \\\n",
      "0    2015-02-05 00:00:00             NaN          90.000            NaN   \n",
      "1    2015-02-06 00:00:00             NaN          90.000            NaN   \n",
      "2    2015-02-09 00:00:00             NaN          90.000            NaN   \n",
      "3    2015-02-10 00:00:00             NaN          90.000            NaN   \n",
      "4    2015-02-11 00:00:00             NaN          90.000            NaN   \n",
      "..                   ...             ...             ...            ...   \n",
      "255  2016-02-01 00:00:00          85.779          86.219         85.297   \n",
      "256  2016-02-02 00:00:00          85.899          86.163         84.086   \n",
      "257  2016-02-03 00:00:00          84.205          84.774         83.200   \n",
      "258  2016-02-04 00:00:00          84.572          85.060         83.914   \n",
      "259  2016-02-05 00:00:00          84.121          84.121         84.121   \n",
      "\n",
      "     AUD/JPY (close)  Navigator  \n",
      "0                NaN     91.003  \n",
      "1                NaN     91.668  \n",
      "2                NaN     92.333  \n",
      "3                NaN     92.442  \n",
      "4                NaN     92.907  \n",
      "..               ...        ...  \n",
      "255           85.897     85.779  \n",
      "256           84.204     85.899  \n",
      "257           84.571     84.205  \n",
      "258           84.122     84.572  \n",
      "259           84.121     84.121  \n",
      "\n",
      "[260 rows x 6 columns]\n"
     ]
    }
   ],
   "source": [
    "data[\"AUD/JPY (high)\"] = data[\"AUD/JPY (high)\"].replace(np.nan,90)\n",
    "print(data)"
   ]
  },
  {
   "cell_type": "code",
   "execution_count": 16,
   "id": "62241413-189a-4a14-bca9-c8cd1df14be3",
   "metadata": {},
   "outputs": [
    {
     "name": "stdout",
     "output_type": "stream",
     "text": [
      "                DateTime  AUD/JPY (open)  AUD/JPY (high)  AUD/JPY (low)  \\\n",
      "0    2015-02-05 00:00:00             NaN          90.000            NaN   \n",
      "1    2015-02-06 00:00:00             NaN          90.000            NaN   \n",
      "2    2015-02-09 00:00:00             NaN          90.000            NaN   \n",
      "3    2015-02-10 00:00:00             NaN          90.000            NaN   \n",
      "4    2015-02-11 00:00:00             NaN          90.000            NaN   \n",
      "..                   ...             ...             ...            ...   \n",
      "255  2016-02-01 00:00:00          85.779          86.219         85.297   \n",
      "256  2016-02-02 00:00:00          85.899          86.163         84.086   \n",
      "257  2016-02-03 00:00:00          84.205          84.774         83.200   \n",
      "258  2016-02-04 00:00:00          84.572          85.060         83.914   \n",
      "259  2016-02-05 00:00:00          84.121          84.121         84.121   \n",
      "\n",
      "     AUD/JPY (close)  Navigator  \n",
      "0                NaN     91.003  \n",
      "1                NaN     91.668  \n",
      "2                NaN     92.333  \n",
      "3                NaN     92.442  \n",
      "4                NaN     92.907  \n",
      "..               ...        ...  \n",
      "255           85.897     85.779  \n",
      "256           84.204     85.899  \n",
      "257           84.571     84.205  \n",
      "258           84.122     84.572  \n",
      "259           84.121     84.121  \n",
      "\n",
      "[260 rows x 6 columns]\n"
     ]
    }
   ],
   "source": [
    "print(data)"
   ]
  },
  {
   "cell_type": "code",
   "execution_count": 17,
   "id": "0ac05732-888f-47e5-bc8d-16ef194619fe",
   "metadata": {},
   "outputs": [
    {
     "name": "stdout",
     "output_type": "stream",
     "text": [
      "                DateTime  AUD/JPY (open)  AUD/JPY (high)  AUD/JPY (low)  \\\n",
      "0    2015-02-05 00:00:00             NaN             NaN            NaN   \n",
      "1    2015-02-06 00:00:00             NaN             NaN            NaN   \n",
      "2    2015-02-09 00:00:00             NaN             NaN            NaN   \n",
      "3    2015-02-10 00:00:00             NaN             NaN            NaN   \n",
      "4    2015-02-11 00:00:00             NaN             NaN            NaN   \n",
      "..                   ...             ...             ...            ...   \n",
      "255  2016-02-01 00:00:00          85.779          86.219         85.297   \n",
      "256  2016-02-02 00:00:00          85.899          86.163         84.086   \n",
      "257  2016-02-03 00:00:00          84.205          84.774         83.200   \n",
      "258  2016-02-04 00:00:00          84.572          85.060         83.914   \n",
      "259  2016-02-05 00:00:00          84.121          84.121         84.121   \n",
      "\n",
      "     AUD/JPY (close)  Navigator  \n",
      "0                NaN     91.003  \n",
      "1                NaN     91.668  \n",
      "2                NaN     92.333  \n",
      "3                NaN     92.442  \n",
      "4                NaN     92.907  \n",
      "..               ...        ...  \n",
      "255           85.897     85.779  \n",
      "256           84.204     85.899  \n",
      "257           84.571     84.205  \n",
      "258           84.122     84.572  \n",
      "259           84.121     84.121  \n",
      "\n",
      "[260 rows x 6 columns]\n"
     ]
    }
   ],
   "source": [
    "data = pd.read_csv(\"nullvalue.csv\")\n",
    "print(data)\n"
   ]
  },
  {
   "cell_type": "code",
   "execution_count": 18,
   "id": "b4472c92-05a5-4450-9237-d7beca528f3e",
   "metadata": {},
   "outputs": [
    {
     "name": "stdout",
     "output_type": "stream",
     "text": [
      "86.71850999999998\n"
     ]
    }
   ],
   "source": [
    "print(data[\"AUD/JPY (high)\"].mean())"
   ]
  },
  {
   "cell_type": "code",
   "execution_count": 19,
   "id": "30f663a7-088f-4b07-9029-f5dcac6c4092",
   "metadata": {},
   "outputs": [
    {
     "name": "stdout",
     "output_type": "stream",
     "text": [
      "                DateTime  AUD/JPY (open)  AUD/JPY (high)  AUD/JPY (low)  \\\n",
      "0    2015-02-05 00:00:00             NaN          86.718            NaN   \n",
      "1    2015-02-06 00:00:00             NaN          86.718            NaN   \n",
      "2    2015-02-09 00:00:00             NaN          86.718            NaN   \n",
      "3    2015-02-10 00:00:00             NaN          86.718            NaN   \n",
      "4    2015-02-11 00:00:00             NaN          86.718            NaN   \n",
      "..                   ...             ...             ...            ...   \n",
      "255  2016-02-01 00:00:00          85.779          86.219         85.297   \n",
      "256  2016-02-02 00:00:00          85.899          86.163         84.086   \n",
      "257  2016-02-03 00:00:00          84.205          84.774         83.200   \n",
      "258  2016-02-04 00:00:00          84.572          85.060         83.914   \n",
      "259  2016-02-05 00:00:00          84.121          84.121         84.121   \n",
      "\n",
      "     AUD/JPY (close)  Navigator  \n",
      "0                NaN     91.003  \n",
      "1                NaN     91.668  \n",
      "2                NaN     92.333  \n",
      "3                NaN     92.442  \n",
      "4                NaN     92.907  \n",
      "..               ...        ...  \n",
      "255           85.897     85.779  \n",
      "256           84.204     85.899  \n",
      "257           84.571     84.205  \n",
      "258           84.122     84.572  \n",
      "259           84.121     84.121  \n",
      "\n",
      "[260 rows x 6 columns]\n"
     ]
    }
   ],
   "source": [
    "data[\"AUD/JPY (high)\"]= data[\"AUD/JPY (high)\"].replace(np.nan,86.718)\n",
    "print(data)"
   ]
  },
  {
   "cell_type": "code",
   "execution_count": 20,
   "id": "fed0040f-6ea3-47a2-9536-fcb2d5f50eda",
   "metadata": {},
   "outputs": [
    {
     "name": "stdout",
     "output_type": "stream",
     "text": [
      "86.71819615384615\n"
     ]
    }
   ],
   "source": [
    "print(data[\"AUD/JPY (high)\"].mean())"
   ]
  },
  {
   "cell_type": "code",
   "execution_count": 21,
   "id": "ecb282c1-1497-4538-8b44-f0fda502f34c",
   "metadata": {},
   "outputs": [
    {
     "name": "stdout",
     "output_type": "stream",
     "text": [
      "                DateTime  AUD/JPY (open)  AUD/JPY (high)  AUD/JPY (low)  \\\n",
      "0    2015-02-05 00:00:00             NaN             NaN            NaN   \n",
      "1    2015-02-06 00:00:00             NaN             NaN            NaN   \n",
      "2    2015-02-09 00:00:00             NaN             NaN            NaN   \n",
      "3    2015-02-10 00:00:00             NaN             NaN            NaN   \n",
      "4    2015-02-11 00:00:00             NaN             NaN            NaN   \n",
      "..                   ...             ...             ...            ...   \n",
      "255  2016-02-01 00:00:00          85.779          86.219         85.297   \n",
      "256  2016-02-02 00:00:00          85.899          86.163         84.086   \n",
      "257  2016-02-03 00:00:00          84.205          84.774         83.200   \n",
      "258  2016-02-04 00:00:00          84.572          85.060         83.914   \n",
      "259  2016-02-05 00:00:00          84.121          84.121         84.121   \n",
      "\n",
      "     AUD/JPY (close)  Navigator  \n",
      "0                NaN     91.003  \n",
      "1                NaN     91.668  \n",
      "2                NaN     92.333  \n",
      "3                NaN     92.442  \n",
      "4                NaN     92.907  \n",
      "..               ...        ...  \n",
      "255           85.897     85.779  \n",
      "256           84.204     85.899  \n",
      "257           84.571     84.205  \n",
      "258           84.122     84.572  \n",
      "259           84.121     84.121  \n",
      "\n",
      "[260 rows x 6 columns]\n"
     ]
    }
   ],
   "source": [
    "data = pd.read_csv(\"nullvalue.csv\")\n",
    "print(data)"
   ]
  },
  {
   "cell_type": "code",
   "execution_count": 22,
   "id": "453bb450-8001-4777-b36c-2e04b109671d",
   "metadata": {},
   "outputs": [
    {
     "name": "stdout",
     "output_type": "stream",
     "text": [
      "                DateTime  AUD/JPY (open)  AUD/JPY (high)  AUD/JPY (low)  \\\n",
      "0    2015-02-05 00:00:00          86.781          87.515         85.853   \n",
      "1    2015-02-06 00:00:00          86.781          87.515         85.853   \n",
      "2    2015-02-09 00:00:00          86.781          87.515         85.853   \n",
      "3    2015-02-10 00:00:00          86.781          87.515         85.853   \n",
      "4    2015-02-11 00:00:00          86.781          87.515         85.853   \n",
      "..                   ...             ...             ...            ...   \n",
      "255  2016-02-01 00:00:00          85.779          86.219         85.297   \n",
      "256  2016-02-02 00:00:00          85.899          86.163         84.086   \n",
      "257  2016-02-03 00:00:00          84.205          84.774         83.200   \n",
      "258  2016-02-04 00:00:00          84.572          85.060         83.914   \n",
      "259  2016-02-05 00:00:00          84.121          84.121         84.121   \n",
      "\n",
      "     AUD/JPY (close)  Navigator  \n",
      "0             86.317     91.003  \n",
      "1             86.317     91.668  \n",
      "2             86.317     92.333  \n",
      "3             86.317     92.442  \n",
      "4             86.317     92.907  \n",
      "..               ...        ...  \n",
      "255           85.897     85.779  \n",
      "256           84.204     85.899  \n",
      "257           84.571     84.205  \n",
      "258           84.122     84.572  \n",
      "259           84.121     84.121  \n",
      "\n",
      "[260 rows x 6 columns]\n"
     ]
    },
    {
     "name": "stderr",
     "output_type": "stream",
     "text": [
      "C:\\Users\\HP\\AppData\\Local\\Temp\\ipykernel_20068\\2754045057.py:1: FutureWarning: DataFrame.fillna with 'method' is deprecated and will raise in a future version. Use obj.ffill() or obj.bfill() instead.\n",
      "  print(data.fillna(method = \"bfill\"))\n"
     ]
    }
   ],
   "source": [
    "print(data.fillna(method = \"bfill\"))"
   ]
  },
  {
   "cell_type": "code",
   "execution_count": 24,
   "id": "dd122adb-6392-47b0-8332-5f460dd0cd1f",
   "metadata": {},
   "outputs": [
    {
     "name": "stdout",
     "output_type": "stream",
     "text": [
      "                DateTime  AUD/JPY (open)  AUD/JPY (high)  AUD/JPY (low)  \\\n",
      "0    2015-02-05 00:00:00             NaN             NaN            NaN   \n",
      "1    2015-02-06 00:00:00             NaN             NaN            NaN   \n",
      "2    2015-02-09 00:00:00             NaN             NaN            NaN   \n",
      "3    2015-02-10 00:00:00             NaN             NaN            NaN   \n",
      "4    2015-02-11 00:00:00             NaN             NaN            NaN   \n",
      "..                   ...             ...             ...            ...   \n",
      "255  2016-02-01 00:00:00          85.779          86.219         85.297   \n",
      "256  2016-02-02 00:00:00          85.899          86.163         84.086   \n",
      "257  2016-02-03 00:00:00          84.205          84.774         83.200   \n",
      "258  2016-02-04 00:00:00          84.572          85.060         83.914   \n",
      "259  2016-02-05 00:00:00          84.121          84.121         84.121   \n",
      "\n",
      "     AUD/JPY (close)  Navigator  \n",
      "0                NaN     91.003  \n",
      "1                NaN     91.668  \n",
      "2                NaN     92.333  \n",
      "3                NaN     92.442  \n",
      "4                NaN     92.907  \n",
      "..               ...        ...  \n",
      "255           85.897     85.779  \n",
      "256           84.204     85.899  \n",
      "257           84.571     84.205  \n",
      "258           84.122     84.572  \n",
      "259           84.121     84.121  \n",
      "\n",
      "[260 rows x 6 columns]\n"
     ]
    },
    {
     "name": "stderr",
     "output_type": "stream",
     "text": [
      "C:\\Users\\HP\\AppData\\Local\\Temp\\ipykernel_20068\\1391920301.py:1: FutureWarning: DataFrame.fillna with 'method' is deprecated and will raise in a future version. Use obj.ffill() or obj.bfill() instead.\n",
      "  print(data.fillna(method = \"ffill\"))\n"
     ]
    }
   ],
   "source": [
    "print(data.fillna(method = \"ffill\"))"
   ]
  },
  {
   "cell_type": "code",
   "execution_count": 25,
   "id": "1722206c-c26f-47bc-a4e1-e58b5356f6b3",
   "metadata": {},
   "outputs": [
    {
     "name": "stdout",
     "output_type": "stream",
     "text": [
      "                DateTime AUD/JPY (open) AUD/JPY (high) AUD/JPY (low)  \\\n",
      "0    2015-02-05 00:00:00            non            non           non   \n",
      "1    2015-02-06 00:00:00            non            non           non   \n",
      "2    2015-02-09 00:00:00            non            non           non   \n",
      "3    2015-02-10 00:00:00            non            non           non   \n",
      "4    2015-02-11 00:00:00            non            non           non   \n",
      "..                   ...            ...            ...           ...   \n",
      "255  2016-02-01 00:00:00         85.779         86.219        85.297   \n",
      "256  2016-02-02 00:00:00         85.899         86.163        84.086   \n",
      "257  2016-02-03 00:00:00         84.205         84.774          83.2   \n",
      "258  2016-02-04 00:00:00         84.572          85.06        83.914   \n",
      "259  2016-02-05 00:00:00         84.121         84.121        84.121   \n",
      "\n",
      "    AUD/JPY (close)  Navigator  \n",
      "0               non     91.003  \n",
      "1               non     91.668  \n",
      "2               non     92.333  \n",
      "3               non     92.442  \n",
      "4               non     92.907  \n",
      "..              ...        ...  \n",
      "255          85.897     85.779  \n",
      "256          84.204     85.899  \n",
      "257          84.571     84.205  \n",
      "258          84.122     84.572  \n",
      "259          84.121     84.121  \n",
      "\n",
      "[260 rows x 6 columns]\n"
     ]
    }
   ],
   "source": [
    "print(data.fillna(\"non\"))"
   ]
  },
  {
   "cell_type": "code",
   "execution_count": null,
   "id": "bf7d11cb-8947-4749-94ec-bb3321e0249c",
   "metadata": {},
   "outputs": [],
   "source": [
    "# columns Transformation in pandas "
   ]
  },
  {
   "cell_type": "code",
   "execution_count": 1,
   "id": "325c4a72-850e-49c7-b08b-d3f8a0d10894",
   "metadata": {},
   "outputs": [
    {
     "name": "stdout",
     "output_type": "stream",
     "text": [
      "    First Name  Gender  Start Date Last Login Time  Salary  Bonus %  \\\n",
      "0      Douglas    Male    8/6/1993        12:42 PM   97308    6.945   \n",
      "1       Thomas    Male   3/31/1996         6:53 AM   61933    4.170   \n",
      "2        Maria  Female   4/23/1993        11:17 AM  130590   11.858   \n",
      "3        Jerry    Male    3/4/2005         1:00 PM  138705    9.340   \n",
      "4        Larry    Male   1/24/1998         4:47 PM  101004    1.389   \n",
      "..         ...     ...         ...             ...     ...      ...   \n",
      "995      Henry     NaN  11/23/2014         6:09 AM  132483   16.655   \n",
      "996    Phillip    Male   1/31/1984         6:30 AM   42392   19.675   \n",
      "997    Russell    Male   5/20/2013        12:39 PM   96914    1.421   \n",
      "998      Larry    Male   4/20/2013         4:45 PM   60500   11.985   \n",
      "999     Albert    Male   5/15/2012         6:24 PM  129949   10.169   \n",
      "\n",
      "    Senior Management                  Team  \n",
      "0                True             Marketing  \n",
      "1                True                   NaN  \n",
      "2               False               Finance  \n",
      "3                True               Finance  \n",
      "4                True       Client Services  \n",
      "..                ...                   ...  \n",
      "995             False          Distribution  \n",
      "996             False               Finance  \n",
      "997             False               Product  \n",
      "998             False  Business Development  \n",
      "999              True                 Sales  \n",
      "\n",
      "[1000 rows x 8 columns]\n"
     ]
    }
   ],
   "source": [
    "import pandas as pd\n",
    "df = pd.read_csv(\"bonus.csv\")\n",
    "print(df)\n"
   ]
  },
  {
   "cell_type": "code",
   "execution_count": 3,
   "id": "219a6347-4a5f-4825-819d-584f7eac042c",
   "metadata": {},
   "outputs": [
    {
     "name": "stdout",
     "output_type": "stream",
     "text": [
      "  First Name  Gender  Start Date Last Login Time  Salary  Bonus %  \\\n",
      "0    Douglas    Male    8/6/1993        12:42 PM   97308    6.945   \n",
      "1     Thomas    Male   3/31/1996         6:53 AM   61933    4.170   \n",
      "2      Maria  Female   4/23/1993        11:17 AM  130590   11.858   \n",
      "3      Jerry    Male    3/4/2005         1:00 PM  138705    9.340   \n",
      "4      Larry    Male   1/24/1998         4:47 PM  101004    1.389   \n",
      "5     Dennis    Male   4/18/1987         1:35 AM  115163   10.125   \n",
      "6       Ruby  Female   8/17/1987         4:20 PM   65476   10.012   \n",
      "7        NaN  Female   7/20/2015        10:43 AM   45906   11.598   \n",
      "8     Angela  Female  11/22/2005         6:29 AM   95570   18.523   \n",
      "9    Frances  Female    8/8/2002         6:51 AM  139852    7.524   \n",
      "\n",
      "  Senior Management                  Team GetsBonus  \n",
      "0              True             Marketing     Bonus  \n",
      "1              True                   NaN     Bonus  \n",
      "2             False               Finance     Bonus  \n",
      "3              True               Finance     Bonus  \n",
      "4              True       Client Services     Bonus  \n",
      "5             False                 Legal     Bonus  \n",
      "6              True               Product     Bonus  \n",
      "7               NaN               Finance     Bonus  \n",
      "8              True           Engineering     Bonus  \n",
      "9              True  Business Development     Bonus  \n"
     ]
    }
   ],
   "source": [
    "df = pd.read_csv(\"bonus.csv\")\n",
    "df.loc[(df[\"Bonus %\"]== 0),\"GetsBonus\"] = \"NO Bonus\"\n",
    "df.loc[(df[\"Bonus %\"]> 0),\"GetsBonus\"] = \"Bonus\"\n",
    "print(df.head(10))"
   ]
  },
  {
   "cell_type": "code",
   "execution_count": 8,
   "id": "74b65f70-1486-4d21-ac0d-0dd55e34f871",
   "metadata": {},
   "outputs": [
    {
     "name": "stdout",
     "output_type": "stream",
     "text": [
      "      EmpID FirstName    LastName  StartDate   ExitDate  \\\n",
      "0      3427     Uriah     Bridges  20-Sep-19        NaN   \n",
      "1      3428     Paula       Small  11-Feb-23        NaN   \n",
      "2      3429    Edward        Buck  10-Dec-18        NaN   \n",
      "3      3430   Michael     Riordan  21-Jun-21        NaN   \n",
      "4      3431   Jasmine       Onque  29-Jun-19        NaN   \n",
      "...     ...       ...         ...        ...        ...   \n",
      "2995   3422    Jakobe    Erickson  22-Jun-22  07-Aug-22   \n",
      "2996   3423    Adyson  Strickland  28-Dec-20        NaN   \n",
      "2997   3424   Annabel     Wilkins  09-Dec-20  04-Aug-22   \n",
      "2998   3425    Kendra       Braun  28-May-19  23-Oct-21   \n",
      "2999   3426     Chace        Kerr  27-Apr-22        NaN   \n",
      "\n",
      "                        Title          Supervisor  \\\n",
      "0     Production Technician I        Peter Oneill   \n",
      "1     Production Technician I     Renee Mccormick   \n",
      "2          Area Sales Manager      Crystal Walker   \n",
      "3          Area Sales Manager      Rebekah Wright   \n",
      "4          Area Sales Manager           Jason Kim   \n",
      "...                       ...                 ...   \n",
      "2995  Production Technician I      Bethany Carter   \n",
      "2996  Production Technician I     Caroline Harris   \n",
      "2997  Production Technician I  Mr. James Castillo   \n",
      "2998  Production Technician I       Michael Woods   \n",
      "2999  Production Technician I       Javier Mccall   \n",
      "\n",
      "                              ADEmail BusinessUnit          EmployeeStatus  \\\n",
      "0         uriah.bridges@bilearner.com         CCDR                  Active   \n",
      "1           paula.small@bilearner.com           EW                  Active   \n",
      "2           edward.buck@bilearner.com           PL                  Active   \n",
      "3       michael.riordan@bilearner.com         CCDR                  Active   \n",
      "4         jasmine.onque@bilearner.com          TNS                  Active   \n",
      "...                               ...          ...                     ...   \n",
      "2995    jakobe.erickson@bilearner.com          PYZ        Leave of Absence   \n",
      "2996  adyson.strickland@bilearner.com          SVG                  Active   \n",
      "2997    annabel.wilkins@bilearner.com          TNS  Voluntarily Terminated   \n",
      "2998       kendra.braun@bilearner.com          WBL  Voluntarily Terminated   \n",
      "2999         chace.kerr@bilearner.com          BPC                  Active   \n",
      "\n",
      "      ...               Division         DOB State JobFunctionDescription  \\\n",
      "0     ...   Finance & Accounting  07-10-1969    MA             Accounting   \n",
      "1     ...                 Aerial  30-08-1965    MA                  Labor   \n",
      "2     ...          General - Sga  06-10-1991    MA              Assistant   \n",
      "3     ...   Finance & Accounting  04-04-1998    ND                  Clerk   \n",
      "4     ...          General - Con  29-08-1969    FL                Laborer   \n",
      "...   ...                    ...         ...   ...                    ...   \n",
      "2995  ...              Engineers  23-06-1998    MA        Model Assistant   \n",
      "2996  ...              Engineers  10-06-2001    MA               Engineer   \n",
      "2997  ...  Wireline Construction  27-01-1997    MA                Laborer   \n",
      "2998  ...                 Aerial  28-05-1954    MA                Foreman   \n",
      "2999  ...       Field Operations  11-09-1990    MA   Warehouse Technician   \n",
      "\n",
      "     GenderCode LocationCode  RaceDesc MaritalDesc Performance Score  \\\n",
      "0        Female        34904     White     Widowed       Fully Meets   \n",
      "1          Male         6593  Hispanic     Widowed       Fully Meets   \n",
      "2          Male         2330  Hispanic     Widowed       Fully Meets   \n",
      "3          Male        58782     Other      Single       Fully Meets   \n",
      "4        Female        33174     Other     Married       Fully Meets   \n",
      "...         ...          ...       ...         ...               ...   \n",
      "2995     Female        44500     Other     Widowed       Fully Meets   \n",
      "2996       Male        35444     Black     Widowed       Fully Meets   \n",
      "2997       Male         6608     White      Single       Fully Meets   \n",
      "2998     Female         3807  Hispanic    Divorced       Fully Meets   \n",
      "2999     Female        57487     White     Married       Fully Meets   \n",
      "\n",
      "     Current Employee Rating  \n",
      "0                          4  \n",
      "1                          3  \n",
      "2                          4  \n",
      "3                          2  \n",
      "4                          3  \n",
      "...                      ...  \n",
      "2995                       3  \n",
      "2996                       3  \n",
      "2997                       2  \n",
      "2998                       2  \n",
      "2999                       2  \n",
      "\n",
      "[3000 rows x 26 columns]\n",
      "   EmpID FirstName  LastName  StartDate   ExitDate                    Title  \\\n",
      "0   3427     Uriah   Bridges  20-Sep-19        NaN  Production Technician I   \n",
      "1   3428     Paula     Small  11-Feb-23        NaN  Production Technician I   \n",
      "2   3429    Edward      Buck  10-Dec-18        NaN       Area Sales Manager   \n",
      "3   3430   Michael   Riordan  21-Jun-21        NaN       Area Sales Manager   \n",
      "4   3431   Jasmine     Onque  29-Jun-19        NaN       Area Sales Manager   \n",
      "5   3432     Maruk    Fraval  17-Jan-20        NaN       Area Sales Manager   \n",
      "6   3433     Latia     Costa  06-Apr-22  03-Jul-23       Area Sales Manager   \n",
      "7   3434  Sharlene     Terry  06-Nov-20  29-Jan-23       Area Sales Manager   \n",
      "8   3435       Jac  McKinzie  18-Aug-18        NaN       Area Sales Manager   \n",
      "9   3436    Joseph   Martins  21-Jan-22  29-Jun-23       Area Sales Manager   \n",
      "\n",
      "        Supervisor                        ADEmail BusinessUnit EmployeeStatus  \\\n",
      "0     Peter Oneill    uriah.bridges@bilearner.com         CCDR         Active   \n",
      "1  Renee Mccormick      paula.small@bilearner.com           EW         Active   \n",
      "2   Crystal Walker      edward.buck@bilearner.com           PL         Active   \n",
      "3   Rebekah Wright  michael.riordan@bilearner.com         CCDR         Active   \n",
      "4        Jason Kim    jasmine.onque@bilearner.com          TNS         Active   \n",
      "5     Sheri Campos     maruk.fraval@bilearner.com          BPC         Active   \n",
      "6      Jacob Braun      latia.costa@bilearner.com          WBL         Active   \n",
      "7    Tracy Marquez   sharlene.terry@bilearner.com         CCDR         Active   \n",
      "8    Sharon Becker     jac.mckinzie@bilearner.com          NEL         Active   \n",
      "9   George Jenkins   joseph.martins@bilearner.com          BPC         Active   \n",
      "\n",
      "   ...         DOB State JobFunctionDescription GenderCode LocationCode  \\\n",
      "0  ...  07-10-1969    MA             Accounting     Female        34904   \n",
      "1  ...  30-08-1965    MA                  Labor       Male         6593   \n",
      "2  ...  06-10-1991    MA              Assistant       Male         2330   \n",
      "3  ...  04-04-1998    ND                  Clerk       Male        58782   \n",
      "4  ...  29-08-1969    FL                Laborer     Female        33174   \n",
      "5  ...  03-04-1949    CT                 Driver       Male         6050   \n",
      "6  ...  01-07-1942    CA             Technician     Female        90007   \n",
      "7  ...  07-03-1957    OR               Engineer     Female        97756   \n",
      "8  ...  15-05-1974    TX    Executive Assistant       Male        78789   \n",
      "9  ...  11-11-1949    TX               Engineer       Male        78207   \n",
      "\n",
      "   RaceDesc MaritalDesc Performance Score Current Employee Rating  \\\n",
      "0     White     Widowed       Fully Meets                       4   \n",
      "1  Hispanic     Widowed       Fully Meets                       3   \n",
      "2  Hispanic     Widowed       Fully Meets                       4   \n",
      "3     Other      Single       Fully Meets                       2   \n",
      "4     Other     Married       Fully Meets                       3   \n",
      "5     Black     Married       Fully Meets                       3   \n",
      "6  Hispanic    Divorced           Exceeds                       4   \n",
      "7     White    Divorced       Fully Meets                       2   \n",
      "8     Black     Widowed           Exceeds                       3   \n",
      "9     Asian     Widowed       Fully Meets                       5   \n",
      "\n",
      "         Full Name  \n",
      "0    Uriah Bridges  \n",
      "1      Paula Small  \n",
      "2      Edward Buck  \n",
      "3  Michael Riordan  \n",
      "4    Jasmine Onque  \n",
      "5     Maruk Fraval  \n",
      "6      Latia Costa  \n",
      "7   Sharlene Terry  \n",
      "8     Jac McKinzie  \n",
      "9   Joseph Martins  \n",
      "\n",
      "[10 rows x 27 columns]\n"
     ]
    }
   ],
   "source": [
    "data = pd.read_csv(\"employee_data.csv\")\n",
    "print(data)\n",
    "\n",
    "data[\"Full Name\"] = data[\"FirstName\"]+ \" \"+data[\"LastName\"]\n",
    "print(data.head(10))"
   ]
  },
  {
   "cell_type": "code",
   "execution_count": 15,
   "id": "13af0b0a-c725-4a18-a4ad-6b15c3916521",
   "metadata": {},
   "outputs": [
    {
     "name": "stdout",
     "output_type": "stream",
     "text": [
      "   EmpID FirstName  LastName  StartDate   ExitDate                    Title  \\\n",
      "0   3427     Uriah   Bridges  20-Sep-19        NaN  Production Technician I   \n",
      "1   3428     Paula     Small  11-Feb-23        NaN  Production Technician I   \n",
      "2   3429    Edward      Buck  10-Dec-18        NaN       Area Sales Manager   \n",
      "3   3430   Michael   Riordan  21-Jun-21        NaN       Area Sales Manager   \n",
      "4   3431   Jasmine     Onque  29-Jun-19        NaN       Area Sales Manager   \n",
      "5   3432     Maruk    Fraval  17-Jan-20        NaN       Area Sales Manager   \n",
      "6   3433     Latia     Costa  06-Apr-22  03-Jul-23       Area Sales Manager   \n",
      "7   3434  Sharlene     Terry  06-Nov-20  29-Jan-23       Area Sales Manager   \n",
      "8   3435       Jac  McKinzie  18-Aug-18        NaN       Area Sales Manager   \n",
      "9   3436    Joseph   Martins  21-Jan-22  29-Jun-23       Area Sales Manager   \n",
      "\n",
      "        Supervisor                        ADEmail BusinessUnit EmployeeStatus  \\\n",
      "0     Peter Oneill    uriah.bridges@bilearner.com         CCDR         Active   \n",
      "1  Renee Mccormick      paula.small@bilearner.com           EW         Active   \n",
      "2   Crystal Walker      edward.buck@bilearner.com           PL         Active   \n",
      "3   Rebekah Wright  michael.riordan@bilearner.com         CCDR         Active   \n",
      "4        Jason Kim    jasmine.onque@bilearner.com          TNS         Active   \n",
      "5     Sheri Campos     maruk.fraval@bilearner.com          BPC         Active   \n",
      "6      Jacob Braun      latia.costa@bilearner.com          WBL         Active   \n",
      "7    Tracy Marquez   sharlene.terry@bilearner.com         CCDR         Active   \n",
      "8    Sharon Becker     jac.mckinzie@bilearner.com          NEL         Active   \n",
      "9   George Jenkins   joseph.martins@bilearner.com          BPC         Active   \n",
      "\n",
      "   ...         DOB State JobFunctionDescription GenderCode LocationCode  \\\n",
      "0  ...  07-10-1969    MA             Accounting     Female        34904   \n",
      "1  ...  30-08-1965    MA                  Labor       Male         6593   \n",
      "2  ...  06-10-1991    MA              Assistant       Male         2330   \n",
      "3  ...  04-04-1998    ND                  Clerk       Male        58782   \n",
      "4  ...  29-08-1969    FL                Laborer     Female        33174   \n",
      "5  ...  03-04-1949    CT                 Driver       Male         6050   \n",
      "6  ...  01-07-1942    CA             Technician     Female        90007   \n",
      "7  ...  07-03-1957    OR               Engineer     Female        97756   \n",
      "8  ...  15-05-1974    TX    Executive Assistant       Male        78789   \n",
      "9  ...  11-11-1949    TX               Engineer       Male        78207   \n",
      "\n",
      "   RaceDesc MaritalDesc Performance Score Current Employee Rating  \\\n",
      "0     White     Widowed       Fully Meets                       4   \n",
      "1  Hispanic     Widowed       Fully Meets                       3   \n",
      "2  Hispanic     Widowed       Fully Meets                       4   \n",
      "3     Other      Single       Fully Meets                       2   \n",
      "4     Other     Married       Fully Meets                       3   \n",
      "5     Black     Married       Fully Meets                       3   \n",
      "6  Hispanic    Divorced           Exceeds                       4   \n",
      "7     White    Divorced       Fully Meets                       2   \n",
      "8     Black     Widowed           Exceeds                       3   \n",
      "9     Asian     Widowed       Fully Meets                       5   \n",
      "\n",
      "         Full Name  \n",
      "0    URIAH Bridges  \n",
      "1      PAULA Small  \n",
      "2      EDWARD Buck  \n",
      "3  MICHAEL Riordan  \n",
      "4    JASMINE Onque  \n",
      "5     MARUK Fraval  \n",
      "6      LATIA Costa  \n",
      "7   SHARLENE Terry  \n",
      "8     JAC McKinzie  \n",
      "9   JOSEPH Martins  \n",
      "\n",
      "[10 rows x 27 columns]\n"
     ]
    }
   ],
   "source": [
    "data[\"Full Name\"] = data[\"FirstName\"].str.upper() + \" \"+data[\"LastName\"]\n",
    "print(data.head(10))"
   ]
  },
  {
   "cell_type": "code",
   "execution_count": 17,
   "id": "c3788b76-bbc3-46b1-8390-33e3bf236aae",
   "metadata": {},
   "outputs": [
    {
     "name": "stdout",
     "output_type": "stream",
     "text": [
      "   EmpID FirstName  LastName  StartDate   ExitDate                    Title  \\\n",
      "0   3427     Uriah   Bridges  20-Sep-19        NaN  Production Technician I   \n",
      "1   3428     Paula     Small  11-Feb-23        NaN  Production Technician I   \n",
      "2   3429    Edward      Buck  10-Dec-18        NaN       Area Sales Manager   \n",
      "3   3430   Michael   Riordan  21-Jun-21        NaN       Area Sales Manager   \n",
      "4   3431   Jasmine     Onque  29-Jun-19        NaN       Area Sales Manager   \n",
      "5   3432     Maruk    Fraval  17-Jan-20        NaN       Area Sales Manager   \n",
      "6   3433     Latia     Costa  06-Apr-22  03-Jul-23       Area Sales Manager   \n",
      "7   3434  Sharlene     Terry  06-Nov-20  29-Jan-23       Area Sales Manager   \n",
      "8   3435       Jac  McKinzie  18-Aug-18        NaN       Area Sales Manager   \n",
      "9   3436    Joseph   Martins  21-Jan-22  29-Jun-23       Area Sales Manager   \n",
      "\n",
      "        Supervisor                        ADEmail BusinessUnit EmployeeStatus  \\\n",
      "0     Peter Oneill    uriah.bridges@bilearner.com         CCDR         Active   \n",
      "1  Renee Mccormick      paula.small@bilearner.com           EW         Active   \n",
      "2   Crystal Walker      edward.buck@bilearner.com           PL         Active   \n",
      "3   Rebekah Wright  michael.riordan@bilearner.com         CCDR         Active   \n",
      "4        Jason Kim    jasmine.onque@bilearner.com          TNS         Active   \n",
      "5     Sheri Campos     maruk.fraval@bilearner.com          BPC         Active   \n",
      "6      Jacob Braun      latia.costa@bilearner.com          WBL         Active   \n",
      "7    Tracy Marquez   sharlene.terry@bilearner.com         CCDR         Active   \n",
      "8    Sharon Becker     jac.mckinzie@bilearner.com          NEL         Active   \n",
      "9   George Jenkins   joseph.martins@bilearner.com          BPC         Active   \n",
      "\n",
      "   ...         DOB State JobFunctionDescription GenderCode LocationCode  \\\n",
      "0  ...  07-10-1969    MA             Accounting     Female        34904   \n",
      "1  ...  30-08-1965    MA                  Labor       Male         6593   \n",
      "2  ...  06-10-1991    MA              Assistant       Male         2330   \n",
      "3  ...  04-04-1998    ND                  Clerk       Male        58782   \n",
      "4  ...  29-08-1969    FL                Laborer     Female        33174   \n",
      "5  ...  03-04-1949    CT                 Driver       Male         6050   \n",
      "6  ...  01-07-1942    CA             Technician     Female        90007   \n",
      "7  ...  07-03-1957    OR               Engineer     Female        97756   \n",
      "8  ...  15-05-1974    TX    Executive Assistant       Male        78789   \n",
      "9  ...  11-11-1949    TX               Engineer       Male        78207   \n",
      "\n",
      "   RaceDesc MaritalDesc Performance Score Current Employee Rating  \\\n",
      "0     White     Widowed       Fully Meets                       4   \n",
      "1  Hispanic     Widowed       Fully Meets                       3   \n",
      "2  Hispanic     Widowed       Fully Meets                       4   \n",
      "3     Other      Single       Fully Meets                       2   \n",
      "4     Other     Married       Fully Meets                       3   \n",
      "5     Black     Married       Fully Meets                       3   \n",
      "6  Hispanic    Divorced           Exceeds                       4   \n",
      "7     White    Divorced       Fully Meets                       2   \n",
      "8     Black     Widowed           Exceeds                       3   \n",
      "9     Asian     Widowed       Fully Meets                       5   \n",
      "\n",
      "         Full Name  \n",
      "0    Uriah Bridges  \n",
      "1      Paula Small  \n",
      "2      Edward Buck  \n",
      "3  Michael Riordan  \n",
      "4    Jasmine Onque  \n",
      "5     Maruk Fraval  \n",
      "6      Latia Costa  \n",
      "7   Sharlene Terry  \n",
      "8     Jac Mckinzie  \n",
      "9   Joseph Martins  \n",
      "\n",
      "[10 rows x 27 columns]\n"
     ]
    }
   ],
   "source": [
    "\n",
    "data[\"Full Name\"] = data[\"FirstName\"].str.capitalize() + \" \"+data[\"LastName\"].str.capitalize()\n",
    "print(data.head(10))"
   ]
  },
  {
   "cell_type": "code",
   "execution_count": 4,
   "id": "4f2354cf-8c9b-4075-bdee-76cfb27a05fd",
   "metadata": {},
   "outputs": [
    {
     "name": "stdout",
     "output_type": "stream",
     "text": [
      "    First Name  Gender  Start Date Last Login Time  Salary  Bonus %  \\\n",
      "0      Douglas    Male    8/6/1993        12:42 PM   97308    6.945   \n",
      "1       Thomas    Male   3/31/1996         6:53 AM   61933    4.170   \n",
      "2        Maria  Female   4/23/1993        11:17 AM  130590   11.858   \n",
      "3        Jerry    Male    3/4/2005         1:00 PM  138705    9.340   \n",
      "4        Larry    Male   1/24/1998         4:47 PM  101004    1.389   \n",
      "..         ...     ...         ...             ...     ...      ...   \n",
      "995      Henry     NaN  11/23/2014         6:09 AM  132483   16.655   \n",
      "996    Phillip    Male   1/31/1984         6:30 AM   42392   19.675   \n",
      "997    Russell    Male   5/20/2013        12:39 PM   96914    1.421   \n",
      "998      Larry    Male   4/20/2013         4:45 PM   60500   11.985   \n",
      "999     Albert    Male   5/15/2012         6:24 PM  129949   10.169   \n",
      "\n",
      "    Senior Management                  Team  New_Bonus  \n",
      "0                True             Marketing    19461.6  \n",
      "1                True                   NaN    12386.6  \n",
      "2               False               Finance    26118.0  \n",
      "3                True               Finance    27741.0  \n",
      "4                True       Client Services    20200.8  \n",
      "..                ...                   ...        ...  \n",
      "995             False          Distribution    26496.6  \n",
      "996             False               Finance     8478.4  \n",
      "997             False               Product    19382.8  \n",
      "998             False  Business Development    12100.0  \n",
      "999              True                 Sales    25989.8  \n",
      "\n",
      "[1000 rows x 9 columns]\n"
     ]
    }
   ],
   "source": [
    "import pandas as pd\n",
    "data = pd.read_csv(\"bonus.csv\")\n",
    "# print(data)\n",
    "\n",
    "data[\"New_Bonus\"] = (data[\"Salary\"]/100)*20\n",
    "print(data)\n"
   ]
  },
  {
   "cell_type": "code",
   "execution_count": 6,
   "id": "b5c12b0e-033c-4966-a2e3-955f79377eec",
   "metadata": {},
   "outputs": [
    {
     "name": "stdout",
     "output_type": "stream",
     "text": [
      "    Months Short_months\n",
      "0  January          Jan\n",
      "1  Feburay          Feb\n",
      "2    March          Mar\n",
      "3    April          Apr\n"
     ]
    }
   ],
   "source": [
    "data = {\"Months\":[\"January\",\"Feburay\",\"March\",\"April\"]}\n",
    "a = pd.DataFrame(data)\n",
    "# print(a)\n",
    "\n",
    "def extract(value):\n",
    "    return value[0:3]\n",
    "\n",
    "\n",
    "a[\"Short_months\"] = a[\"Months\"].map(extract)\n",
    "print(a)"
   ]
  },
  {
   "cell_type": "code",
   "execution_count": 9,
   "id": "6f29f445-00d8-4c39-9b76-7b8d990e7911",
   "metadata": {},
   "outputs": [
    {
     "name": "stdout",
     "output_type": "stream",
     "text": [
      "   EmpID FirstName  LastName  StartDate   ExitDate                    Title  \\\n",
      "0   3427     Uriah   Bridges  20-Sep-19        NaN  Production Technician I   \n",
      "1   3428     Paula     Small  11-Feb-23        NaN  Production Technician I   \n",
      "2   3429    Edward      Buck  10-Dec-18        NaN       Area Sales Manager   \n",
      "3   3430   Michael   Riordan  21-Jun-21        NaN       Area Sales Manager   \n",
      "4   3431   Jasmine     Onque  29-Jun-19        NaN       Area Sales Manager   \n",
      "5   3432     Maruk    Fraval  17-Jan-20        NaN       Area Sales Manager   \n",
      "6   3433     Latia     Costa  06-Apr-22  03-Jul-23       Area Sales Manager   \n",
      "7   3434  Sharlene     Terry  06-Nov-20  29-Jan-23       Area Sales Manager   \n",
      "8   3435       Jac  McKinzie  18-Aug-18        NaN       Area Sales Manager   \n",
      "9   3436    Joseph   Martins  21-Jan-22  29-Jun-23       Area Sales Manager   \n",
      "\n",
      "        Supervisor                        ADEmail BusinessUnit EmployeeStatus  \\\n",
      "0     Peter Oneill    uriah.bridges@bilearner.com         CCDR         Active   \n",
      "1  Renee Mccormick      paula.small@bilearner.com           EW         Active   \n",
      "2   Crystal Walker      edward.buck@bilearner.com           PL         Active   \n",
      "3   Rebekah Wright  michael.riordan@bilearner.com         CCDR         Active   \n",
      "4        Jason Kim    jasmine.onque@bilearner.com          TNS         Active   \n",
      "5     Sheri Campos     maruk.fraval@bilearner.com          BPC         Active   \n",
      "6      Jacob Braun      latia.costa@bilearner.com          WBL         Active   \n",
      "7    Tracy Marquez   sharlene.terry@bilearner.com         CCDR         Active   \n",
      "8    Sharon Becker     jac.mckinzie@bilearner.com          NEL         Active   \n",
      "9   George Jenkins   joseph.martins@bilearner.com          BPC         Active   \n",
      "\n",
      "   ...              Division         DOB State JobFunctionDescription  \\\n",
      "0  ...  Finance & Accounting  07-10-1969    MA             Accounting   \n",
      "1  ...                Aerial  30-08-1965    MA                  Labor   \n",
      "2  ...         General - Sga  06-10-1991    MA              Assistant   \n",
      "3  ...  Finance & Accounting  04-04-1998    ND                  Clerk   \n",
      "4  ...         General - Con  29-08-1969    FL                Laborer   \n",
      "5  ...      Field Operations  03-04-1949    CT                 Driver   \n",
      "6  ...         General - Eng  01-07-1942    CA             Technician   \n",
      "7  ...             Engineers  07-03-1957    OR               Engineer   \n",
      "8  ...             Executive  15-05-1974    TX    Executive Assistant   \n",
      "9  ...             Engineers  11-11-1949    TX               Engineer   \n",
      "\n",
      "  GenderCode LocationCode  RaceDesc MaritalDesc Performance Score  \\\n",
      "0     Female        34904     White     Widowed       Fully Meets   \n",
      "1       Male         6593  Hispanic     Widowed       Fully Meets   \n",
      "2       Male         2330  Hispanic     Widowed       Fully Meets   \n",
      "3       Male        58782     Other      Single       Fully Meets   \n",
      "4     Female        33174     Other     Married       Fully Meets   \n",
      "5       Male         6050     Black     Married       Fully Meets   \n",
      "6     Female        90007  Hispanic    Divorced           Exceeds   \n",
      "7     Female        97756     White    Divorced       Fully Meets   \n",
      "8       Male        78789     Black     Widowed           Exceeds   \n",
      "9       Male        78207     Asian     Widowed       Fully Meets   \n",
      "\n",
      "  Current Employee Rating  \n",
      "0                       4  \n",
      "1                       3  \n",
      "2                       4  \n",
      "3                       2  \n",
      "4                       3  \n",
      "5                       3  \n",
      "6                       4  \n",
      "7                       2  \n",
      "8                       3  \n",
      "9                       5  \n",
      "\n",
      "[10 rows x 26 columns]\n"
     ]
    }
   ],
   "source": [
    "import pandas as pd\n",
    "data = pd.read_csv(\"employee_data.csv\")\n",
    "print(data.head(10))"
   ]
  },
  {
   "cell_type": "code",
   "execution_count": 10,
   "id": "c3af0a2a-d3ee-4a48-b90c-4e1902d4ecc0",
   "metadata": {},
   "outputs": [
    {
     "name": "stdout",
     "output_type": "stream",
     "text": [
      "                          GenderCode\n",
      "Division                            \n",
      "Aerial                           196\n",
      "Billable Consultants              24\n",
      "Catv                              58\n",
      "Corp Operations                    2\n",
      "Engineers                        275\n",
      "Executive                         43\n",
      "Field Operations                 789\n",
      "Fielders                          82\n",
      "Finance & Accounting              70\n",
      "General - Con                    509\n",
      "General - Eng                     86\n",
      "General - Sga                    117\n",
      "Isp                               14\n",
      "People Services                   25\n",
      "Project Management - Con         178\n",
      "Project Management - Eng          16\n",
      "Safety                             9\n",
      "Sales & Marketing                  9\n",
      "Shop (Fleet)                      57\n",
      "Splicing                         110\n",
      "Technology / It                   26\n",
      "Underground                       33\n",
      "Wireless                          33\n",
      "Wireline Construction            180\n",
      "Yard (Material Handling)          59\n"
     ]
    }
   ],
   "source": [
    "gp = data.groupby(\"Division\").agg({\"GenderCode\":\"count\"})\n",
    "print(gp)"
   ]
  },
  {
   "cell_type": "code",
   "execution_count": 13,
   "id": "d48fb96c-9178-4f90-abd4-7bc66fb50f37",
   "metadata": {},
   "outputs": [
    {
     "name": "stdout",
     "output_type": "stream",
     "text": [
      "                                     EmpID\n",
      "Division                 GenderCode       \n",
      "Aerial                   Female        120\n",
      "                         Male           76\n",
      "Billable Consultants     Female         12\n",
      "                         Male           12\n",
      "Catv                     Female         34\n",
      "                         Male           24\n",
      "Corp Operations          Male            2\n",
      "Engineers                Female        146\n",
      "                         Male          129\n",
      "Executive                Female         20\n",
      "                         Male           23\n",
      "Field Operations         Female        431\n",
      "                         Male          358\n",
      "Fielders                 Female         41\n",
      "                         Male           41\n",
      "Finance & Accounting     Female         35\n",
      "                         Male           35\n",
      "General - Con            Female        296\n",
      "                         Male          213\n",
      "General - Eng            Female         47\n",
      "                         Male           39\n",
      "General - Sga            Female         70\n",
      "                         Male           47\n",
      "Isp                      Female          8\n",
      "                         Male            6\n",
      "People Services          Female         16\n",
      "                         Male            9\n",
      "Project Management - Con Female        103\n",
      "                         Male           75\n",
      "Project Management - Eng Female          8\n",
      "                         Male            8\n",
      "Safety                   Female          5\n",
      "                         Male            4\n",
      "Sales & Marketing        Female          5\n",
      "                         Male            4\n",
      "Shop (Fleet)             Female         35\n",
      "                         Male           22\n",
      "Splicing                 Female         54\n",
      "                         Male           56\n",
      "Technology / It          Female         18\n",
      "                         Male            8\n",
      "Underground              Female         19\n",
      "                         Male           14\n",
      "Wireless                 Female         25\n",
      "                         Male            8\n",
      "Wireline Construction    Female         99\n",
      "                         Male           81\n",
      "Yard (Material Handling) Female         35\n",
      "                         Male           24\n"
     ]
    }
   ],
   "source": [
    "gp = data.groupby([\"Division\",\"GenderCode\"]).agg({\"EmpID\":\"count\"})\n",
    "print(gp)"
   ]
  },
  {
   "cell_type": "code",
   "execution_count": 16,
   "id": "98476509-a68a-4bb2-acf6-ec64f5160442",
   "metadata": {},
   "outputs": [
    {
     "name": "stdout",
     "output_type": "stream",
     "text": [
      "       Current Employee Rating\n",
      "State                         \n",
      "AL                    2.727273\n",
      "AZ                    3.000000\n",
      "CA                    2.600000\n",
      "CO                    3.041667\n",
      "CT                    3.100000\n",
      "FL                    3.000000\n",
      "GA                    2.333333\n",
      "ID                    3.032258\n",
      "IN                    2.500000\n",
      "KY                    2.925926\n",
      "MA                    2.976235\n",
      "ME                    3.000000\n",
      "MT                    1.000000\n",
      "NC                    3.200000\n",
      "ND                    1.500000\n",
      "NH                    2.000000\n",
      "NV                    4.000000\n",
      "NY                    3.363636\n",
      "OH                    1.000000\n",
      "OR                    2.444444\n",
      "PA                    3.000000\n",
      "RI                    3.250000\n",
      "TN                    2.916667\n",
      "TX                    2.826923\n",
      "UT                    3.000000\n",
      "VA                    4.500000\n",
      "VT                    3.500000\n",
      "WA                    2.900000\n"
     ]
    }
   ],
   "source": [
    "gp1 = data.groupby(\"State\").agg({\"Current Employee Rating\":\"mean\"})\n",
    "print(gp1)"
   ]
  },
  {
   "cell_type": "code",
   "execution_count": 18,
   "id": "7295d9ec-1cfe-4f30-9699-896978db27d8",
   "metadata": {},
   "outputs": [
    {
     "name": "stdout",
     "output_type": "stream",
     "text": [
      "       Current Employee Rating\n",
      "State                         \n",
      "AL                           5\n",
      "AZ                           5\n",
      "CA                           5\n",
      "CO                           5\n",
      "CT                           5\n",
      "FL                           3\n",
      "GA                           3\n",
      "ID                           5\n",
      "IN                           5\n",
      "KY                           5\n",
      "MA                           5\n",
      "ME                           4\n",
      "MT                           1\n",
      "NC                           4\n",
      "ND                           2\n",
      "NH                           2\n",
      "NV                           4\n",
      "NY                           5\n",
      "OH                           1\n",
      "OR                           5\n",
      "PA                           3\n",
      "RI                           5\n",
      "TN                           5\n",
      "TX                           5\n",
      "UT                           4\n",
      "VA                           5\n",
      "VT                           5\n",
      "WA                           5\n"
     ]
    }
   ],
   "source": [
    "gp1 = data.groupby(\"State\").agg({\"Current Employee Rating\":\"max\"})\n",
    "print(gp1)"
   ]
  },
  {
   "cell_type": "code",
   "execution_count": 20,
   "id": "dbc66db3-de11-4df8-a61c-cd3a17b2df98",
   "metadata": {},
   "outputs": [
    {
     "name": "stdout",
     "output_type": "stream",
     "text": [
      "       Current Employee Rating\n",
      "State                         \n",
      "AL                           1\n",
      "AZ                           1\n",
      "CA                           1\n",
      "CO                           1\n",
      "CT                           1\n",
      "FL                           3\n",
      "GA                           2\n",
      "ID                           1\n",
      "IN                           1\n",
      "KY                           1\n",
      "MA                           1\n",
      "ME                           2\n",
      "MT                           1\n",
      "NC                           2\n",
      "ND                           1\n",
      "NH                           2\n",
      "NV                           4\n",
      "NY                           1\n",
      "OH                           1\n",
      "OR                           1\n",
      "PA                           3\n",
      "RI                           2\n",
      "TN                           1\n",
      "TX                           1\n",
      "UT                           2\n",
      "VA                           4\n",
      "VT                           2\n",
      "WA                           1\n"
     ]
    }
   ],
   "source": [
    "gp1 = data.groupby(\"State\").agg({\"Current Employee Rating\":\"max\",\"Current Employee Rating\":\"min\"})\n",
    "print(gp1)"
   ]
  },
  {
   "cell_type": "code",
   "execution_count": 22,
   "id": "21f1f51a-d263-48bc-8993-23309b23a2e6",
   "metadata": {},
   "outputs": [
    {
     "name": "stdout",
     "output_type": "stream",
     "text": [
      "       Current Employee Rating  EmpID\n",
      "State                                \n",
      "AL                           5     11\n",
      "AZ                           5     31\n",
      "CA                           5     10\n",
      "CO                           5     24\n",
      "CT                           5     40\n",
      "FL                           3      1\n",
      "GA                           3      3\n",
      "ID                           5     31\n",
      "IN                           5     14\n",
      "KY                           5     27\n",
      "MA                           5   2651\n",
      "ME                           4      2\n",
      "MT                           1      1\n",
      "NC                           4      5\n",
      "ND                           2      4\n",
      "NH                           2      2\n",
      "NV                           4      1\n",
      "NY                           5     11\n",
      "OH                           1      1\n",
      "OR                           5      9\n",
      "PA                           3     13\n",
      "RI                           5      4\n",
      "TN                           5     24\n",
      "TX                           5     52\n",
      "UT                           4      2\n",
      "VA                           5      2\n",
      "VT                           5      4\n",
      "WA                           5     20\n"
     ]
    }
   ],
   "source": [
    "gp1 = data.groupby(\"State\").agg({\"Current Employee Rating\":\"max\",\"EmpID\":\"count\"})\n",
    "print(gp1)"
   ]
  },
  {
   "cell_type": "code",
   "execution_count": 19,
   "id": "44943f12-51ce-4381-9afe-bd8f2bd05c9e",
   "metadata": {},
   "outputs": [
    {
     "name": "stdout",
     "output_type": "stream",
     "text": [
      "                  Current Employee Rating\n",
      "State GenderCode                         \n",
      "AL    Male                       2.727273\n",
      "AZ    Female                     2.666667\n",
      "      Male                       3.035714\n",
      "CA    Female                     2.500000\n",
      "      Male                       2.666667\n",
      "CO    Male                       3.041667\n",
      "CT    Female                     3.227273\n",
      "      Male                       2.944444\n",
      "FL    Female                     3.000000\n",
      "GA    Female                     2.333333\n",
      "ID    Female                     2.000000\n",
      "      Male                       3.103448\n",
      "IN    Female                     4.500000\n",
      "      Male                       2.166667\n",
      "KY    Female                     2.772727\n",
      "      Male                       3.600000\n",
      "MA    Female                     2.996134\n",
      "      Male                       2.948135\n",
      "ME    Male                       3.000000\n",
      "MT    Female                     1.000000\n",
      "NC    Female                     3.000000\n",
      "      Male                       3.333333\n",
      "ND    Female                     1.000000\n",
      "      Male                       1.666667\n",
      "NH    Male                       2.000000\n",
      "NV    Male                       4.000000\n",
      "NY    Female                     4.000000\n",
      "      Male                       3.300000\n",
      "OH    Female                     1.000000\n",
      "OR    Female                     1.600000\n",
      "      Male                       3.500000\n",
      "PA    Female                     3.000000\n",
      "RI    Female                     3.250000\n",
      "TN    Male                       2.916667\n",
      "TX    Female                     2.550000\n",
      "      Male                       3.000000\n",
      "UT    Male                       3.000000\n",
      "VA    Female                     4.500000\n",
      "VT    Female                     3.500000\n",
      "WA    Female                     3.000000\n",
      "      Male                       2.333333\n"
     ]
    }
   ],
   "source": [
    "gp1 = data.groupby([\"State\",\"GenderCode\"]).agg({\"Current Employee Rating\":\"mean\"})\n",
    "print(gp1)"
   ]
  },
  {
   "cell_type": "code",
   "execution_count": 2,
   "id": "57a0b10f-76ed-4f89-a095-b35d6b3555a9",
   "metadata": {},
   "outputs": [
    {
     "name": "stdout",
     "output_type": "stream",
     "text": [
      "  Emp Id    Name  Age\n",
      "0    E01     Ram   34\n",
      "1    E02   Shyam   56\n",
      "2    E03   Rahul   23\n",
      "3    E04  Bishal   21\n",
      "4    E05    Ravi   22\n",
      "5    E06  kundan   25\n",
      "\n",
      "  Emp Id  Salary\n",
      "0    E01   45000\n",
      "1    E02   56000\n",
      "2    E03   34000\n",
      "3    E04   47000\n",
      "4    E05   67000\n",
      "5    E06   69000\n"
     ]
    }
   ],
   "source": [
    "import pandas as pd\n",
    "data1 = {\"Emp Id\" : [\"E01\",\"E02\",\"E03\",\"E04\",\"E05\",\"E06\"],\n",
    "        \"Name\":[\"Ram\",\"Shyam\",\"Rahul\",\"Bishal\",\"Ravi\",\"kundan\"],\n",
    "        \"Age\":[34,56,23,21,22,25]}\n",
    "data2 = {\"Emp Id\": [\"E01\",\"E02\",\"E03\",\"E04\",\"E05\",\"E06\"],\n",
    "        \"Salary\" : [45000,56000,34000,47000,67000,69000]}\n",
    "df1 = pd.DataFrame(data1)\n",
    "df2 = pd.DataFrame(data2)\n",
    "print(df1)\n",
    "print()\n",
    "print(df2)"
   ]
  },
  {
   "cell_type": "code",
   "execution_count": 4,
   "id": "57e93708-0b6e-4ba3-a282-ed19bb8e169e",
   "metadata": {},
   "outputs": [
    {
     "name": "stdout",
     "output_type": "stream",
     "text": [
      "  Emp Id    Name  Age  Salary\n",
      "0    E01     Ram   34   45000\n",
      "1    E02   Shyam   56   56000\n",
      "2    E03   Rahul   23   34000\n",
      "3    E04  Bishal   21   47000\n",
      "4    E05    Ravi   22   67000\n",
      "5    E06  kundan   25   69000\n"
     ]
    }
   ],
   "source": [
    "print(pd.merge(df1,df2,on = \"Emp Id\"))"
   ]
  },
  {
   "cell_type": "code",
   "execution_count": 7,
   "id": "50db4d9a-547a-40c2-92b8-7dfe16fd1b2a",
   "metadata": {},
   "outputs": [
    {
     "name": "stdout",
     "output_type": "stream",
     "text": [
      "  Emp Id    Name  Age  Salary\n",
      "0    E01     Ram   34   45000\n",
      "1    E03   Rahul   23   34000\n",
      "2    E05    Ravi   22   67000\n",
      "3    E06  kundan   25   56000\n"
     ]
    }
   ],
   "source": [
    "data1 = {\"Emp Id\" : [\"E01\",\"E02\",\"E03\",\"E04\",\"E05\",\"E06\"],\n",
    "        \"Name\":[\"Ram\",\"Shyam\",\"Rahul\",\"Bishal\",\"Ravi\",\"kundan\"],\n",
    "        \"Age\":[34,56,23,21,22,25]}\n",
    "data2 = {\"Emp Id\": [\"E01\",\"E06\",\"E03\",\"E08\",\"E05\",\"E07\"],\n",
    "        \"Salary\" : [45000,56000,34000,47000,67000,69000]}\n",
    "df1 = pd.DataFrame(data1)\n",
    "df2 = pd.DataFrame(data2)\n",
    "\n",
    "print(pd.merge(df1,df2,on = \"Emp Id\"))"
   ]
  },
  {
   "cell_type": "code",
   "execution_count": 8,
   "id": "9ae0d829-4390-441f-a1ee-93e55e33a60e",
   "metadata": {},
   "outputs": [
    {
     "name": "stdout",
     "output_type": "stream",
     "text": [
      "  Emp Id    Name  Age  Salary\n",
      "0    E01     Ram   34   45000\n",
      "1    E03   Rahul   23   34000\n",
      "2    E05    Ravi   22   67000\n",
      "3    E06  kundan   25   56000\n"
     ]
    }
   ],
   "source": [
    "print(pd.merge(df1,df2,on = \"Emp Id\",how = \"inner\"))"
   ]
  },
  {
   "cell_type": "code",
   "execution_count": 10,
   "id": "ad392582-6f53-4620-ba3d-e5915a585001",
   "metadata": {},
   "outputs": [
    {
     "name": "stdout",
     "output_type": "stream",
     "text": [
      "  Emp Id    Name  Age   Salary\n",
      "0    E01     Ram   34  45000.0\n",
      "1    E02   Shyam   56      NaN\n",
      "2    E03   Rahul   23  34000.0\n",
      "3    E04  Bishal   21      NaN\n",
      "4    E05    Ravi   22  67000.0\n",
      "5    E06  kundan   25  56000.0\n"
     ]
    }
   ],
   "source": [
    "print(pd.merge(left = df1,right = df2,on = \"Emp Id\",how = \"left\"))"
   ]
  },
  {
   "cell_type": "code",
   "execution_count": 11,
   "id": "d60428a1-c19d-4b8d-9382-75606133373f",
   "metadata": {},
   "outputs": [
    {
     "name": "stdout",
     "output_type": "stream",
     "text": [
      "  Emp Id    Name   Age  Salary\n",
      "0    E01     Ram  34.0   45000\n",
      "1    E06  kundan  25.0   56000\n",
      "2    E03   Rahul  23.0   34000\n",
      "3    E08     NaN   NaN   47000\n",
      "4    E05    Ravi  22.0   67000\n",
      "5    E07     NaN   NaN   69000\n"
     ]
    }
   ],
   "source": [
    "print(pd.merge(left = df1,right = df2,on = \"Emp Id\",how = \"right\"))"
   ]
  },
  {
   "cell_type": "code",
   "execution_count": 16,
   "id": "97aa0338-a728-4db9-a48a-81e4296176c3",
   "metadata": {},
   "outputs": [],
   "source": [
    "# data1 = {\"Emp Id\" : [\"E01\",\"E02\",\"E03\",\"E04\",\"E05\",\"E06\"],\n",
    "#         \"Name\":[\"Ram\",\"Shyam\",\"Rahul\",\"Bishal\",\"Ravi\",\"kundan\"],\n",
    "#         \"Age\":[34,56,23,21,22,25]}\n",
    "# data2 = {\"Emp Id\" : [\"E07\",\"E08\",\"E09\",\"E10\",\"E11\",\"E12\"],\n",
    "#         \"Name\":[\"john\",\"Amit\",\"Babu bhai\",\"Pandit\",\"RAm\",\"siya\"],\n",
    "#         \"Age\":[34,56,23,21,22,25]}\n",
    "# df1 = pd.DataFrame(data1)\n",
    "# df2 = pd.DataFrame(data2)"
   ]
  },
  {
   "cell_type": "code",
   "execution_count": 19,
   "id": "ed6843f8-4abc-40d4-8ccf-0220f392f91b",
   "metadata": {},
   "outputs": [
    {
     "name": "stdout",
     "output_type": "stream",
     "text": [
      "  Emp Id       Name  Age\n",
      "0    E01        Ram   34\n",
      "1    E02      Shyam   56\n",
      "2    E03      Rahul   23\n",
      "3    E04     Bishal   21\n",
      "4    E05       Ravi   22\n",
      "5    E06     kundan   25\n",
      "0    E07       john   34\n",
      "1    E08       Amit   56\n",
      "2    E09  Babu bhai   23\n",
      "3    E10     Pandit   21\n",
      "4    E11        RAm   22\n",
      "5    E12       siya   25\n"
     ]
    }
   ],
   "source": [
    "print(pd.concat([df1,df2]))"
   ]
  },
  {
   "cell_type": "code",
   "execution_count": 27,
   "id": "7b1b9bd7-90d1-41c6-b953-f7fc7a959b58",
   "metadata": {},
   "outputs": [
    {
     "name": "stdout",
     "output_type": "stream",
     "text": [
      "   Fruits  Price  Quantity\n",
      "0   Mango    100        15\n",
      "1  Apples    150        10\n",
      "2  Banana     50        10\n",
      "3  Papaya     30         5\n",
      "   Fruits  Price  Quantity\n",
      "0   Mango    120        12\n",
      "1  Apples    175        15\n",
      "2  Banana     50        10\n",
      "3  Papaya     30         7\n"
     ]
    }
   ],
   "source": [
    "import pandas as pd\n",
    "\n",
    "dict = {\"Fruits\":[\"Mango\",\"Apples\",\"Banana\",\"Papaya\"],\n",
    "       \"Price\" : [100,150,50,30],\n",
    "       \"Quantity\" : [15,10,10,5]}\n",
    "\n",
    "df1 = pd.DataFrame(dict)\n",
    "print(df)\n",
    "\n",
    "df2 = df1.copy()\n",
    "\n",
    "df2.loc[0,\"Price\"] = 120\n",
    "df2.loc[1,\"Price\"] = 175\n",
    "df2.loc[3,\"Price\"] = 30\n",
    "\n",
    "df2.loc[0,\"Quantity\"] = 12\n",
    "df2.loc[1,\"Quantity\"] = 15\n",
    "df2.loc[3,\"Quantity\"] = 7\n",
    "\n",
    "\n",
    "\n",
    "\n",
    "print(df2)\n"
   ]
  },
  {
   "cell_type": "code",
   "execution_count": 28,
   "id": "c50d4837-820a-4ea2-bdbb-250fc563b97e",
   "metadata": {},
   "outputs": [
    {
     "name": "stdout",
     "output_type": "stream",
     "text": [
      "   Price        Quantity      \n",
      "    self  other     self other\n",
      "0  100.0  120.0     15.0  12.0\n",
      "1  150.0  175.0     10.0  15.0\n",
      "3    NaN    NaN      5.0   7.0\n"
     ]
    }
   ],
   "source": [
    "print(df1.compare(df2))"
   ]
  },
  {
   "cell_type": "code",
   "execution_count": 29,
   "id": "e7fa4df1-020f-41e9-9014-7ab1d4d43cc3",
   "metadata": {},
   "outputs": [
    {
     "name": "stdout",
     "output_type": "stream",
     "text": [
      "         Price  Quantity\n",
      "0 self   100.0      15.0\n",
      "  other  120.0      12.0\n",
      "1 self   150.0      10.0\n",
      "  other  175.0      15.0\n",
      "3 self     NaN       5.0\n",
      "  other    NaN       7.0\n"
     ]
    }
   ],
   "source": [
    "print(df1.compare(df2,align_axis=0))"
   ]
  },
  {
   "cell_type": "code",
   "execution_count": 30,
   "id": "fa6298a7-93f2-4076-be8f-4fd1873528e5",
   "metadata": {},
   "outputs": [
    {
     "name": "stdout",
     "output_type": "stream",
     "text": [
      "  Price       Quantity      \n",
      "   self other     self other\n",
      "0   100   120       15    12\n",
      "1   150   175       10    15\n",
      "3    30    30        5     7\n"
     ]
    }
   ],
   "source": [
    "print(df1.compare(df2,keep_equal=True))"
   ]
  },
  {
   "cell_type": "code",
   "execution_count": 31,
   "id": "001b48fd-de33-4c9c-a438-b9596e4a261b",
   "metadata": {},
   "outputs": [
    {
     "name": "stdout",
     "output_type": "stream",
     "text": [
      "  Fruits        Price        Quantity      \n",
      "    self other   self  other     self other\n",
      "0    NaN   NaN  100.0  120.0     15.0  12.0\n",
      "1    NaN   NaN  150.0  175.0     10.0  15.0\n",
      "2    NaN   NaN    NaN    NaN      NaN   NaN\n",
      "3    NaN   NaN    NaN    NaN      5.0   7.0\n"
     ]
    }
   ],
   "source": [
    "print(df1.compare(df2,keep_shape=True))"
   ]
  },
  {
   "cell_type": "code",
   "execution_count": 32,
   "id": "65e6af40-ac66-44ed-8762-6171b3f0ec7f",
   "metadata": {},
   "outputs": [
    {
     "name": "stdout",
     "output_type": "stream",
     "text": [
      "   Price        Quantity      \n",
      "    self  other     self other\n",
      "0  100.0  120.0     15.0  12.0\n",
      "1  150.0  175.0     10.0  15.0\n",
      "3    NaN    NaN      5.0   7.0\n"
     ]
    }
   ],
   "source": [
    "print(df1.compare(df2,keep_shape=False))"
   ]
  },
  {
   "cell_type": "code",
   "execution_count": null,
   "id": "eedfc49d-f275-4b47-aae5-10c5db045d53",
   "metadata": {},
   "outputs": [],
   "source": [
    "# Pandas :- Pivoting and Melting Dataframes"
   ]
  },
  {
   "cell_type": "code",
   "execution_count": 44,
   "id": "97b45035-be94-4e8c-8662-d01256ebdc43",
   "metadata": {},
   "outputs": [
    {
     "name": "stdout",
     "output_type": "stream",
     "text": [
      "  keys   Name Houses Grades\n",
      "0   k1   john    red    3rd\n",
      "1   k2    Ben   Blue    8th\n",
      "2   k1  David  Green    9th\n",
      "3   k2  Peter    red    8th\n"
     ]
    }
   ],
   "source": [
    "import pandas as pd\n",
    "dict = {\"keys\":[\"k1\",\"k2\",\"k1\",\"k2\"],\n",
    "        \"Name\": [\"john\",\"Ben\",\"David\",\"Peter\"],\n",
    "        \"Houses\":[\"red\",\"Blue\",\"Green\",\"red\"],\n",
    "        \"Grades\" : [\"3rd\",\"8th\",\"9th\",\"8th\"]\n",
    "       }\n",
    "df = pd.DataFrame(dict)\n",
    "print(df)"
   ]
  },
  {
   "cell_type": "code",
   "execution_count": 46,
   "id": "d4352252-bbd9-4db0-b9dc-dbaeaf1e0c06",
   "metadata": {},
   "outputs": [
    {
     "name": "stdout",
     "output_type": "stream",
     "text": [
      "     Houses                   Grades                 \n",
      "Name    Ben  David Peter john    Ben David Peter john\n",
      "keys                                                 \n",
      "k1      NaN  Green   NaN  red    NaN   9th   NaN  3rd\n",
      "k2     Blue    NaN   red  NaN    8th   NaN   8th  NaN\n"
     ]
    }
   ],
   "source": [
    "print(df.pivot(index=\"keys\", columns=\"Name\", values= [\"Houses\",\"Grades\"]))"
   ]
  },
  {
   "cell_type": "code",
   "execution_count": 51,
   "id": "2fb793e7-164b-4931-a928-7ddb4471a4d7",
   "metadata": {},
   "outputs": [
    {
     "name": "stdout",
     "output_type": "stream",
     "text": [
      "    Name Houses Grades\n",
      "0   john    red    3rd\n",
      "1    Ben   Blue    8th\n",
      "2  David  Green    9th\n",
      "3  Peter    red    8th\n",
      "    Name variable  value\n",
      "0   john   Houses    red\n",
      "1    Ben   Houses   Blue\n",
      "2  David   Houses  Green\n",
      "3  Peter   Houses    red\n"
     ]
    }
   ],
   "source": [
    "#  melting\n",
    "dict = {\"Name\": [\"john\",\"Ben\",\"David\",\"Peter\"],\n",
    "        \"Houses\":[\"red\",\"Blue\",\"Green\",\"red\"],\n",
    "        \"Grades\" : [\"3rd\",\"8th\",\"9th\",\"8th\"]\n",
    "       }\n",
    "\n",
    "df = pd.DataFrame(dict)\n",
    "print(df)\n",
    "\n",
    "print (pd.melt(df,id_vars =[\"Name\"],value_vars = [\"Houses\"]))"
   ]
  },
  {
   "cell_type": "code",
   "execution_count": 52,
   "id": "692a8ed7-3bdd-41f3-899d-01ddb5dd039c",
   "metadata": {},
   "outputs": [
    {
     "name": "stdout",
     "output_type": "stream",
     "text": [
      "    Name variable  value\n",
      "0   john   Houses    red\n",
      "1    Ben   Houses   Blue\n",
      "2  David   Houses  Green\n",
      "3  Peter   Houses    red\n",
      "4   john   Grades    3rd\n",
      "5    Ben   Grades    8th\n",
      "6  David   Grades    9th\n",
      "7  Peter   Grades    8th\n"
     ]
    }
   ],
   "source": [
    "print (pd.melt(df,id_vars =[\"Name\"],value_vars = [\"Houses\",\"Grades\"]))"
   ]
  },
  {
   "cell_type": "code",
   "execution_count": 53,
   "id": "ea50fe66-a565-4d62-a72f-59d21f83e50a",
   "metadata": {},
   "outputs": [
    {
     "name": "stdout",
     "output_type": "stream",
     "text": [
      "    Name Houses&Gardes Values1\n",
      "0   john        Houses     red\n",
      "1    Ben        Houses    Blue\n",
      "2  David        Houses   Green\n",
      "3  Peter        Houses     red\n",
      "4   john        Grades     3rd\n",
      "5    Ben        Grades     8th\n",
      "6  David        Grades     9th\n",
      "7  Peter        Grades     8th\n"
     ]
    }
   ],
   "source": [
    "print (pd.melt(df,id_vars =[\"Name\"],value_vars = [\"Houses\",\"Grades\"],var_name = \"Houses&Gardes\", value_name = \"Values1\"))"
   ]
  }
 ],
 "metadata": {
  "kernelspec": {
   "display_name": "Python 3 (ipykernel)",
   "language": "python",
   "name": "python3"
  },
  "language_info": {
   "codemirror_mode": {
    "name": "ipython",
    "version": 3
   },
   "file_extension": ".py",
   "mimetype": "text/x-python",
   "name": "python",
   "nbconvert_exporter": "python",
   "pygments_lexer": "ipython3",
   "version": "3.12.3"
  }
 },
 "nbformat": 4,
 "nbformat_minor": 5
}
